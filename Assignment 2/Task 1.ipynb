{
 "cells": [
  {
   "cell_type": "markdown",
   "metadata": {},
   "source": [
    "<h1>Task 1</h1>"
   ]
  },
  {
   "cell_type": "markdown",
   "metadata": {},
   "source": [
    "<h3>Q1)\n",
    "1.1 \n",
    "Write a Python Program to implement your own myreduce() function which works exactly like\n",
    "Python's built-in function reduce().</h3>"
   ]
  },
  {
   "cell_type": "code",
   "execution_count": 1,
   "metadata": {},
   "outputs": [
    {
     "name": "stdout",
     "output_type": "stream",
     "text": [
      "Product of numbers using reduce function is: 3628800\n"
     ]
    }
   ],
   "source": [
    "def my_reduce(fn, sequence):\n",
    "\n",
    "    # Initializing list to store the first element of the sequence\n",
    "    result = sequence[0]\n",
    "\n",
    "    # Now computing the first and second value to the fn,\n",
    "    # this will go upto last value of the sequence\n",
    "    for values in sequence[1:]:\n",
    "        result = fn(result, values)\n",
    "\n",
    "    return result\n",
    "\n",
    "\n",
    "def product(x, y):\n",
    "    return x*y\n",
    "\n",
    "\n",
    "numbers = range(1, 11)\n",
    "x = my_reduce(product, numbers)\n",
    "print(\"Product of numbers using reduce function is:\", str(x))"
   ]
  },
  {
   "cell_type": "markdown",
   "metadata": {},
   "source": [
    "<h3>1.2\n",
    "Write a Python program to implement your own myfilter() function which works exactly like\n",
    "Python's built-in function filter().\n",
    "</h3>"
   ]
  },
  {
   "cell_type": "code",
   "execution_count": 2,
   "metadata": {},
   "outputs": [
    {
     "name": "stdout",
     "output_type": "stream",
     "text": [
      "Using filter, your even numbers are: \n",
      " [0, 2, 4, 6, 8, 10]\n"
     ]
    }
   ],
   "source": [
    "def my_filter(fn, sequence):\n",
    "    # Initializing an empty list\n",
    "    final_list = []\n",
    "\n",
    "    # Passing every item in the sequence through values,\n",
    "    # then passing every value of values through the used function,\n",
    "    # if the result of fn comes out to be true, appending the value of the sequence to the final_list\n",
    "    for values in sequence:\n",
    "        if fn(values):\n",
    "            final_list.append(values)\n",
    "\n",
    "    return final_list\n",
    "\n",
    "\n",
    "# To test filter function\n",
    "def iseven(n):\n",
    "    if n % 2 == 0:\n",
    "        return True\n",
    "    else:\n",
    "        return False\n",
    "\n",
    "\n",
    "numbers = range(11)\n",
    "x = my_filter(iseven, numbers)\n",
    "print(\"Using filter, your even numbers are: \\n\", str(x))\n"
   ]
  },
  {
   "cell_type": "markdown",
   "metadata": {},
   "source": [
    "<h3>Q2) Implement List comprehensions to produce the following lists.\n",
    "Write List comprehensions to produce the following Lists<br><br>\n",
    "['A', 'C', 'A', 'D', 'G', 'I', ’L’, ‘ D’]<br><br>\n",
    "['x', 'xx', 'xxx', 'xxxx', 'y', 'yy', 'yyy', 'yyyy', 'z', 'zz', 'zzz', 'zzzz']<br><br>\n",
    "['x', 'y', 'z', 'xx', 'yy', 'zz', 'xx', 'yy', 'zz', 'xxxx', 'yyyy', 'zzzz']<br><br>\n",
    "[[2], [3], [4], [3], [4], [5], [4], [5], [6]]<br><br>\n",
    "[[2, 3, 4, 5], [3, 4, 5, 6], [4, 5, 6, 7], [5, 6, 7, 8]]<br><br>\n",
    "[(1, 1), (2, 1), (3, 1), (1, 2), (2, 2), (3, 2), (1, 3), (2, 3), (3, 3)]<br>\n",
    "</h3>"
   ]
  },
  {
   "cell_type": "code",
   "execution_count": 3,
   "metadata": {},
   "outputs": [
    {
     "name": "stdout",
     "output_type": "stream",
     "text": [
      "['A', 'C', 'A', 'D', 'G', 'I', 'L', 'D']\n",
      "['x', 'xx', 'xxx', 'xxxx', 'y', 'yy', 'yyy', 'yyyy', 'z', 'zz', 'zzz', 'zzzz']\n",
      "['x', 'y', 'z', 'xx', 'yy', 'zz', 'xxx', 'yyy', 'zzz', 'xxxx', 'yyyy', 'zzzz']\n",
      "[[2], [3], [4], [3], [4], [5], [4], [5], [6]]\n",
      "[[2, 3, 4, 5], [3, 4, 5, 6], [4, 5, 6, 7], [5, 6, 7, 8]]\n",
      "[(1, 1), (2, 1), (3, 1), (1, 2), (2, 2), (3, 2), (1, 3), (2, 3), (3, 3)]\n"
     ]
    }
   ],
   "source": [
    "# List Comprehension = [expression condition]\n",
    "\n",
    "# 1\n",
    "given_word = \"ACADGILD\"\n",
    "result = [letters for letters in given_word]\n",
    "print(result)\n",
    "\n",
    "# 2\n",
    "given_list = ['x','y','z']\n",
    "# First for loop is outer loop and the second one is inner loop\n",
    "# After the expression the first statement is always the outer condition/fn followed by inner condition/fn\n",
    "# It means first the expression will run for all the values of number given first value of item\n",
    "result = [items*number for items in given_list for number in range(1, 5)]\n",
    "print(result)\n",
    "\n",
    "# 3\n",
    "result = [items*number for number in range(1,5) for items in given_list]\n",
    "print(result)\n",
    "\n",
    "# 4\n",
    "given_list = [2,3,4]\n",
    "result = [[i+j] for i in given_list for j in range(3)]\n",
    "print(result)\n",
    "\n",
    "# 5\n",
    "given_list = [2,3,4,5]\n",
    "result = [[i+number for i in given_list] for number in range(4)]\n",
    "print(result)\n",
    "\n",
    "# 6\n",
    "given_list = [1,2,3]\n",
    "result = [(j,i) for i in given_list for j in given_list]\n",
    "print(result)"
   ]
  },
  {
   "cell_type": "markdown",
   "metadata": {},
   "source": [
    "<h3>Q3) Implement a function longestWord() that takes a list of words and returns the longest one.</h3>"
   ]
  },
  {
   "cell_type": "code",
   "execution_count": 5,
   "metadata": {},
   "outputs": [
    {
     "name": "stdin",
     "output_type": "stream",
     "text": [
      "Enter number of words you want to enter: 5\n",
      "Enter the words one by one: hello\n",
      "Enter the words one by one: longest\n",
      "Enter the words one by one: small\n",
      "Enter the words one by one: ml\n",
      "Enter the words one by one: ds\n"
     ]
    },
    {
     "name": "stdout",
     "output_type": "stream",
     "text": [
      "Your longest word amongst  ['hello', 'longest', 'small', 'ml', 'ds']  is  longest."
     ]
    }
   ],
   "source": [
    "words = []\n",
    "n = int(input(\"Enter number of words you want to enter:\"))\n",
    "for i in range(n):\n",
    "    # Words to add in the list\n",
    "    x = input(\"Enter the words one by one:\")\n",
    "    words.append(x)\n",
    "\n",
    "# sorted(iterable, key, reverse)\n",
    "# iterable is basically sequence of nums or words that need to be sorted, it can be of any type ex. list/tuple etx\n",
    "# key sets the basis for sorting, for ex in this case it's length\n",
    "# reverse if set true, it sorts in reverse order\n",
    "result = sorted(words, key=len)\n",
    "\n",
    "# took the last word as it'll be the longest word as the list is sorted length wise\n",
    "print(\"Your longest word amongst \", words,\" is \", result[-1], end=\".\")"
   ]
  },
  {
   "cell_type": "code",
   "execution_count": null,
   "metadata": {},
   "outputs": [],
   "source": []
  }
 ],
 "metadata": {
  "kernelspec": {
   "display_name": "Python",
   "language": "python",
   "name": "conda-env-python-py"
  },
  "language_info": {
   "codemirror_mode": {
    "name": "ipython",
    "version": 3
   },
   "file_extension": ".py",
   "mimetype": "text/x-python",
   "name": "python",
   "nbconvert_exporter": "python",
   "pygments_lexer": "ipython3",
   "version": "3.6.7"
  }
 },
 "nbformat": 4,
 "nbformat_minor": 4
}
