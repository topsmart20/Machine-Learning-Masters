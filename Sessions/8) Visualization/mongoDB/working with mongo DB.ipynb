{
 "cells": [
  {
   "cell_type": "code",
   "execution_count": 29,
   "metadata": {},
   "outputs": [],
   "source": [
    "import pymongo"
   ]
  },
  {
   "cell_type": "code",
   "execution_count": 30,
   "metadata": {},
   "outputs": [],
   "source": [
    " # package which enables us to connect to the MongoDB\n",
    "dbConn = pymongo.MongoClient(\"mongodb://localhost:27017/\")  # connecting to the locally running MongoDB Instance\n"
   ]
  },
  {
   "cell_type": "code",
   "execution_count": 31,
   "metadata": {},
   "outputs": [],
   "source": [
    "dbname='demoDB'\n",
    "db = dbConn[dbname] # connecting to the database named demoDB present in the mongoDB\n",
    "# if the database is not present, it'll autoamtically create it."
   ]
  },
  {
   "cell_type": "code",
   "execution_count": 33,
   "metadata": {},
   "outputs": [
    {
     "name": "stdout",
     "output_type": "stream",
     "text": [
      "['admin', 'classTest', 'config', 'crawlerDB', 'demoDB', 'local', 'wafers_db']\n"
     ]
    }
   ],
   "source": [
    "# show all the databases\n",
    "print(dbConn.list_database_names())"
   ]
  },
  {
   "cell_type": "code",
   "execution_count": 12,
   "metadata": {},
   "outputs": [
    {
     "name": "stdout",
     "output_type": "stream",
     "text": [
      "This Databse exists\n"
     ]
    }
   ],
   "source": [
    "# check if the databse exists in mongoDB\n",
    "dblist=dbConn.list_database_names() # obtaining all the database names\n",
    "db_name='demoDB'\n",
    "\n",
    "if dblist.index(db_name)==-1:\n",
    "    print (\"This Databse doesn't exist\")\n",
    "else:\n",
    "    print (\"This Databse exists\")"
   ]
  },
  {
   "cell_type": "code",
   "execution_count": 13,
   "metadata": {},
   "outputs": [],
   "source": [
    "# connecting to a collection--- collections are analogous to tables\n",
    "collection_name='mongo_demo'\n",
    "collection=db[collection_name]  # connectig to the collection itself present in the database."
   ]
  },
  {
   "cell_type": "code",
   "execution_count": 14,
   "metadata": {},
   "outputs": [
    {
     "name": "stdout",
     "output_type": "stream",
     "text": [
      "The collection exists.\n"
     ]
    }
   ],
   "source": [
    "# cheking if a collection exists\n",
    "if collection_name in db.list_collection_names():\n",
    "    print(\"The collection exists.\")\n",
    "else:\n",
    "    print(\"The collection doesn't exist.\")    "
   ]
  },
  {
   "cell_type": "code",
   "execution_count": 18,
   "metadata": {},
   "outputs": [],
   "source": [
    "# inserting row into the collection\n",
    "my_row = {'Serial No': '9998',\n",
    " 'GRE Score': '337',\n",
    " 'TOEFL Score': '118',\n",
    " 'University Rating': '4',\n",
    " 'SOP': '4.5',\n",
    " 'LOR': '4.5',\n",
    " 'CGPA': '9.65',\n",
    " 'Research': '1',\n",
    " 'Chance of Admit': '0.92'} # creating key value pairs for inserting into the DB"
   ]
  },
  {
   "cell_type": "code",
   "execution_count": 19,
   "metadata": {},
   "outputs": [],
   "source": [
    "x = collection.insert_one(my_row)  # inserting record into the collection "
   ]
  },
  {
   "cell_type": "code",
   "execution_count": 20,
   "metadata": {},
   "outputs": [
    {
     "name": "stdout",
     "output_type": "stream",
     "text": [
      "5e880d2160b8d30edc9c4189\n"
     ]
    }
   ],
   "source": [
    "print(x.inserted_id) # printing the unique id for insert"
   ]
  },
  {
   "cell_type": "code",
   "execution_count": 24,
   "metadata": {},
   "outputs": [],
   "source": [
    "# inserting multiple rows once\n",
    "my_rows = [\n",
    "{'Serial No': '9997',\n",
    " 'GRE Score': '337',\n",
    " 'TOEFL Score': '118',\n",
    " 'University Rating': '4',\n",
    " 'SOP': '4.5',\n",
    " 'LOR': '4.5',\n",
    " 'CGPA': '9.65',\n",
    " 'Research': '1',\n",
    " 'Chance of Admit': '0.92'},\n",
    "  {\n",
    "    'Serial No': '9996',\n",
    " 'GRE Score': '336',\n",
    " 'TOEFL Score': '118',\n",
    " 'University Rating': '4',\n",
    " 'SOP': '4.5',\n",
    " 'LOR': '4.5',\n",
    " 'CGPA': '9.6',\n",
    " 'Research': '0',\n",
    " 'Chance of Admit': '0.92'},\n",
    "  {\n",
    "    'Serial No': '9995',\n",
    " 'GRE Score': '337',\n",
    " 'TOEFL Score': '118',\n",
    " 'University Rating': '4',\n",
    " 'SOP': '4.5',\n",
    " 'LOR': '4.5',\n",
    " 'CGPA': '9.5',\n",
    " 'Research': '1',\n",
    " 'Chance of Admit': '0.92'},\n",
    "  {\n",
    "    'Serial No': '9994',\n",
    " 'GRE Score': '334',\n",
    " 'TOEFL Score': '119',\n",
    " 'University Rating': '4',\n",
    " 'SOP': '4.5',\n",
    " 'LOR': '4.5',\n",
    " 'CGPA': '9.4',\n",
    " 'Research': '1',\n",
    " 'Chance of Admit': '0.92'},\n",
    "  {\n",
    "    'Serial No': '9993',\n",
    " 'GRE Score': '337',\n",
    " 'TOEFL Score': '118',\n",
    " 'University Rating': '4',\n",
    " 'SOP': '4.5',\n",
    " 'LOR': '4.5',\n",
    " 'CGPA': '9.65',\n",
    " 'Research': '1',\n",
    " 'Chance of Admit': '0.92'}\n",
    "\n",
    "]# creating key value pairs for inserting into the DB\n"
   ]
  },
  {
   "cell_type": "code",
   "execution_count": 26,
   "metadata": {},
   "outputs": [],
   "source": [
    "# inserting records into the collection \n",
    "x = collection.insert_many(my_rows) "
   ]
  },
  {
   "cell_type": "code",
   "execution_count": 27,
   "metadata": {},
   "outputs": [
    {
     "name": "stdout",
     "output_type": "stream",
     "text": [
      "[ObjectId('5e74d705e95ed88943f59443'), ObjectId('5e74d705e95ed88943f59444'), ObjectId('5e74d705e95ed88943f59445'), ObjectId('5e74d705e95ed88943f59446'), ObjectId('5e74d705e95ed88943f59447')]\n"
     ]
    }
   ],
   "source": [
    "# printing the unique id for insert\n",
    "print(x.inserted_ids) "
   ]
  },
  {
   "cell_type": "code",
   "execution_count": 28,
   "metadata": {},
   "outputs": [
    {
     "data": {
      "text/plain": [
       "{'_id': ObjectId('5e74c0f1b6e0ce74542d4910'),\n",
       " 'Serial No': '4',\n",
       " 'GRE Score': '322',\n",
       " 'TOEFL Score': '110',\n",
       " 'University Rating': '3',\n",
       " 'SOP': '3.5',\n",
       " 'LOR': '2.5',\n",
       " 'CGPA': '8.67',\n",
       " 'Research': '1',\n",
       " 'Chance of Admit': '0.8'}"
      ]
     },
     "execution_count": 28,
     "metadata": {},
     "output_type": "execute_result"
    }
   ],
   "source": [
    "# retieving all the records from collection\n",
    "result= collection.find({}) \n",
    "result[3] #printing the third record"
   ]
  },
  {
   "cell_type": "markdown",
   "metadata": {},
   "source": [
    "whenever we are calling the find() method, if we have too many rows/records in the table, then we'll get too many responses for that which might overwhelm the application. To overcome this scenario, we have a way in mongoDB to have an upper limit on the number of rows returned.\n",
    "\n",
    "It is called the **limit()** method."
   ]
  },
  {
   "cell_type": "code",
   "execution_count": 53,
   "metadata": {},
   "outputs": [
    {
     "name": "stdout",
     "output_type": "stream",
     "text": [
      "{'_id': ObjectId('5e74c0f1b6e0ce74542d490e'), 'Serial No': '2', 'GRE Score': '324', 'TOEFL Score': '107', 'University Rating': '4', 'SOP': '4', 'LOR': '4.5', 'CGPA': '8.87', 'Research': '1', 'Chance of Admit': '0.76'}\n",
      "{'_id': ObjectId('5e74c0f1b6e0ce74542d490f'), 'Serial No': '3', 'GRE Score': '', 'TOEFL Score': '104', 'University Rating': '3', 'SOP': '3', 'LOR': '3.5', 'CGPA': '8', 'Research': '1', 'Chance of Admit': '0.72'}\n",
      "{'_id': ObjectId('5e74c0f1b6e0ce74542d4910'), 'Serial No': '4', 'GRE Score': '322', 'TOEFL Score': '110', 'University Rating': '3', 'SOP': '3.5', 'LOR': '2.5', 'CGPA': '8.67', 'Research': '1', 'Chance of Admit': '0.8'}\n",
      "{'_id': ObjectId('5e74c0f1b6e0ce74542d4911'), 'Serial No': '5', 'GRE Score': '314', 'TOEFL Score': '103', 'University Rating': '2', 'SOP': '2', 'LOR': '3', 'CGPA': '8.21', 'Research': '0', 'Chance of Admit': '0.65'}\n",
      "{'_id': ObjectId('5e74c0f1b6e0ce74542d4912'), 'Serial No': '6', 'GRE Score': '330', 'TOEFL Score': '115', 'University Rating': '5', 'SOP': '4.5', 'LOR': '3', 'CGPA': '9.34', 'Research': '1', 'Chance of Admit': '0.9'}\n"
     ]
    }
   ],
   "source": [
    "# printing only the five rows\n",
    "result_total= collection.find({}).limit(5)\n",
    "for res in result_total:\n",
    "    print(res)"
   ]
  },
  {
   "cell_type": "code",
   "execution_count": 21,
   "metadata": {},
   "outputs": [
    {
     "name": "stdout",
     "output_type": "stream",
     "text": [
      "{'_id': ObjectId('5e74c0f1b6e0ce74542d490e'), 'GRE Score': '324', 'TOEFL Score': '107'}\n",
      "{'_id': ObjectId('5e74c0f1b6e0ce74542d490f'), 'GRE Score': '', 'TOEFL Score': '104'}\n",
      "{'_id': ObjectId('5e74c0f1b6e0ce74542d4910'), 'GRE Score': '322', 'TOEFL Score': '110'}\n",
      "{'_id': ObjectId('5e74c0f1b6e0ce74542d4911'), 'GRE Score': '314', 'TOEFL Score': '103'}\n",
      "{'_id': ObjectId('5e74c0f1b6e0ce74542d4912'), 'GRE Score': '330', 'TOEFL Score': '115'}\n"
     ]
    }
   ],
   "source": [
    "# retrieveing some columns\n",
    "result_some= collection.find({}, {'GRE Score','TOEFL Score'}).limit(5) # retrieveing two columns\n",
    "# The second parameter in find() specifies which columns to choose\n",
    "for res in result_some:\n",
    "    print(res)"
   ]
  },
  {
   "cell_type": "code",
   "execution_count": 36,
   "metadata": {},
   "outputs": [
    {
     "name": "stdout",
     "output_type": "stream",
     "text": [
      "{'_id': ObjectId('5e74c0f1b6e0ce74542d490d'), 'Serial No': '1', 'GRE Score': '337', 'TOEFL Score': '118', 'University Rating': '4', 'SOP': '4.5', 'LOR': '4.5', 'CGPA': '9.65', 'Research': '1', 'Chance of Admit': '0.92'}\n",
      "{'_id': ObjectId('5e74c0f1b6e0ce74542d4afd'), 'Serial No': '497', 'GRE Score': '337', 'TOEFL Score': '117', 'University Rating': '5', 'SOP': '5', 'LOR': '5', 'CGPA': '9.87', 'Research': '1', 'Chance of Admit': '0.96'}\n",
      "{'_id': ObjectId('5e74c521e95ed88943f59441'), 'Serial No': '9999', 'GRE Score': '337', 'TOEFL Score': '118', 'University Rating': '4', 'SOP': '4.5', 'LOR': '4.5', 'CGPA': '9.65', 'Research': '1', 'Chance of Admit': '0.92'}\n",
      "{'_id': ObjectId('5e74c53ee95ed88943f59442'), 'Serial No': '9998', 'GRE Score': '337', 'TOEFL Score': '118', 'University Rating': '4', 'SOP': '4.5', 'LOR': '4.5', 'CGPA': '9.65', 'Research': '1', 'Chance of Admit': '0.92'}\n",
      "{'_id': ObjectId('5e74d705e95ed88943f59443'), 'Serial No': '9997', 'GRE Score': '337', 'TOEFL Score': '118', 'University Rating': '4', 'SOP': '4.5', 'LOR': '4.5', 'CGPA': '9.65', 'Research': '1', 'Chance of Admit': '0.92'}\n",
      "{'_id': ObjectId('5e74d705e95ed88943f59445'), 'Serial No': '9995', 'GRE Score': '337', 'TOEFL Score': '118', 'University Rating': '4', 'SOP': '4.5', 'LOR': '4.5', 'CGPA': '9.5', 'Research': '1', 'Chance of Admit': '0.92'}\n",
      "{'_id': ObjectId('5e74d705e95ed88943f59447'), 'Serial No': '9993', 'GRE Score': '337', 'TOEFL Score': '118', 'University Rating': '4', 'SOP': '4.5', 'LOR': '4.5', 'CGPA': '9.65', 'Research': '1', 'Chance of Admit': '0.92'}\n"
     ]
    }
   ],
   "source": [
    "# finding the rows satisfying a given criteria\n",
    "my_db_query={'GRE Score':'337'}\n",
    "# printing all the rows where GRE Score is 337\n",
    "result_GRE= collection.find(my_db_query)\n",
    "for res in result_GRE:\n",
    "    print(res)"
   ]
  },
  {
   "cell_type": "code",
   "execution_count": 41,
   "metadata": {},
   "outputs": [
    {
     "name": "stdout",
     "output_type": "stream",
     "text": [
      "{'_id': ObjectId('5e74c0f1b6e0ce74542d4926'), 'Serial No': '26', 'GRE Score': '340', 'TOEFL Score': '120', 'University Rating': '5', 'SOP': '4.5', 'LOR': '4.5', 'CGPA': '9.6', 'Research': '1', 'Chance of Admit': '0.94'}\n",
      "{'_id': ObjectId('5e74c0f1b6e0ce74542d492d'), 'Serial No': '33', 'GRE Score': '338', 'TOEFL Score': '118', 'University Rating': '4', 'SOP': '3', 'LOR': '4.5', 'CGPA': '9.4', 'Research': '1', 'Chance of Admit': '0.91'}\n",
      "{'_id': ObjectId('5e74c0f1b6e0ce74542d492e'), 'Serial No': '34', 'GRE Score': '340', 'TOEFL Score': '114', 'University Rating': '5', 'SOP': '4', 'LOR': '4', 'CGPA': '9.6', 'Research': '1', 'Chance of Admit': '0.9'}\n",
      "{'_id': ObjectId('5e74c0f1b6e0ce74542d493c'), 'Serial No': '48', 'GRE Score': '339', 'TOEFL Score': '119', 'University Rating': '5', 'SOP': '4.5', 'LOR': '4', 'CGPA': '9.7', 'Research': '0', 'Chance of Admit': '0.89'}\n",
      "{'_id': ObjectId('5e74c0f1b6e0ce74542d495e'), 'Serial No': '82', 'GRE Score': '340', 'TOEFL Score': '120', 'University Rating': '4', 'SOP': '5', 'LOR': '5', 'CGPA': '9.5', 'Research': '1', 'Chance of Admit': '0.96'}\n",
      "{'_id': ObjectId('5e74c0f1b6e0ce74542d4961'), 'Serial No': '85', 'GRE Score': '340', 'TOEFL Score': '115', 'University Rating': '5', 'SOP': '4.5', 'LOR': '4.5', 'CGPA': '9.45', 'Research': '1', 'Chance of Admit': '0.94'}\n",
      "{'_id': ObjectId('5e74c0f1b6e0ce74542d4978'), 'Serial No': '108', 'GRE Score': '338', 'TOEFL Score': '117', 'University Rating': '4', 'SOP': '3.5', 'LOR': '4.5', 'CGPA': '9.46', 'Research': '1', 'Chance of Admit': '0.91'}\n",
      "{'_id': ObjectId('5e74c0f1b6e0ce74542d498f'), 'Serial No': '131', 'GRE Score': '339', 'TOEFL Score': '114', 'University Rating': '5', 'SOP': '4', 'LOR': '4.5', 'CGPA': '9.76', 'Research': '1', 'Chance of Admit': '0.96'}\n",
      "{'_id': ObjectId('5e74c0f1b6e0ce74542d499c'), 'Serial No': '144', 'GRE Score': '340', 'TOEFL Score': '120', 'University Rating': '4', 'SOP': '4.5', 'LOR': '4', 'CGPA': '9.92', 'Research': '1', 'Chance of Admit': '0.97'}\n",
      "{'_id': ObjectId('5e74c0f1b6e0ce74542d49a1'), 'Serial No': '149', 'GRE Score': '339', 'TOEFL Score': '116', 'University Rating': '4', 'SOP': '4', 'LOR': '3.5', 'CGPA': '9.8', 'Research': '1', 'Chance of Admit': '0.96'}\n",
      "{'_id': ObjectId('5e74c0f1b6e0ce74542d49d7'), 'Serial No': '203', 'GRE Score': '340', 'TOEFL Score': '120', 'University Rating': '5', 'SOP': '4.5', 'LOR': '4.5', 'CGPA': '9.91', 'Research': '1', 'Chance of Admit': '0.97'}\n",
      "{'_id': ObjectId('5e74c0f1b6e0ce74542d49e1'), 'Serial No': '213', 'GRE Score': '338', 'TOEFL Score': '120', 'University Rating': '4', 'SOP': '5', 'LOR': '5', 'CGPA': '9.66', 'Research': '1', 'Chance of Admit': '0.95'}\n",
      "{'_id': ObjectId('5e74c0f1b6e0ce74542d4a29'), 'Serial No': '285', 'GRE Score': '340', 'TOEFL Score': '112', 'University Rating': '4', 'SOP': '5', 'LOR': '4.5', 'CGPA': '9.66', 'Research': '1', 'Chance of Admit': '0.94'}\n",
      "{'_id': ObjectId('5e74c0f1b6e0ce74542d4a77'), 'Serial No': '363', 'GRE Score': '338', 'TOEFL Score': '115', 'University Rating': '5', 'SOP': '4.5', 'LOR': '5', 'CGPA': '9.23', 'Research': '1', 'Chance of Admit': '0.91'}\n",
      "{'_id': ObjectId('5e74c0f1b6e0ce74542d4a8d'), 'Serial No': '385', 'GRE Score': '340', 'TOEFL Score': '113', 'University Rating': '4', 'SOP': '5', 'LOR': '5', 'CGPA': '9.74', 'Research': '1', 'Chance of Admit': '0.96'}\n",
      "{'_id': ObjectId('5e74c0f1b6e0ce74542d4aba'), 'Serial No': '430', 'GRE Score': '340', 'TOEFL Score': '115', 'University Rating': '5', 'SOP': '5', 'LOR': '4.5', 'CGPA': '9.06', 'Research': '1', 'Chance of Admit': '0.95'}\n"
     ]
    }
   ],
   "source": [
    "my_db_query={'GRE Score':{'$gt':'337'}}\n",
    "# printing all the rows where GRE Score is greaterthan 330\n",
    "result_GRE= collection.find(my_db_query)\n",
    "for res in result_GRE:\n",
    "    print(res)"
   ]
  },
  {
   "cell_type": "code",
   "execution_count": 42,
   "metadata": {},
   "outputs": [
    {
     "name": "stdout",
     "output_type": "stream",
     "text": [
      "{'_id': ObjectId('5e74c0f1b6e0ce74542d492d'), 'Serial No': '33', 'GRE Score': '338', 'TOEFL Score': '118', 'University Rating': '4', 'SOP': '3', 'LOR': '4.5', 'CGPA': '9.4', 'Research': '1', 'Chance of Admit': '0.91'}\n",
      "{'_id': ObjectId('5e74c0f1b6e0ce74542d4978'), 'Serial No': '108', 'GRE Score': '338', 'TOEFL Score': '117', 'University Rating': '4', 'SOP': '3.5', 'LOR': '4.5', 'CGPA': '9.46', 'Research': '1', 'Chance of Admit': '0.91'}\n",
      "{'_id': ObjectId('5e74c0f1b6e0ce74542d49e1'), 'Serial No': '213', 'GRE Score': '338', 'TOEFL Score': '120', 'University Rating': '4', 'SOP': '5', 'LOR': '5', 'CGPA': '9.66', 'Research': '1', 'Chance of Admit': '0.95'}\n",
      "{'_id': ObjectId('5e74c0f1b6e0ce74542d4a77'), 'Serial No': '363', 'GRE Score': '338', 'TOEFL Score': '115', 'University Rating': '5', 'SOP': '4.5', 'LOR': '5', 'CGPA': '9.23', 'Research': '1', 'Chance of Admit': '0.91'}\n",
      "{'_id': ObjectId('5e74c0f1b6e0ce74542d493c'), 'Serial No': '48', 'GRE Score': '339', 'TOEFL Score': '119', 'University Rating': '5', 'SOP': '4.5', 'LOR': '4', 'CGPA': '9.7', 'Research': '0', 'Chance of Admit': '0.89'}\n",
      "{'_id': ObjectId('5e74c0f1b6e0ce74542d498f'), 'Serial No': '131', 'GRE Score': '339', 'TOEFL Score': '114', 'University Rating': '5', 'SOP': '4', 'LOR': '4.5', 'CGPA': '9.76', 'Research': '1', 'Chance of Admit': '0.96'}\n",
      "{'_id': ObjectId('5e74c0f1b6e0ce74542d49a1'), 'Serial No': '149', 'GRE Score': '339', 'TOEFL Score': '116', 'University Rating': '4', 'SOP': '4', 'LOR': '3.5', 'CGPA': '9.8', 'Research': '1', 'Chance of Admit': '0.96'}\n",
      "{'_id': ObjectId('5e74c0f1b6e0ce74542d4926'), 'Serial No': '26', 'GRE Score': '340', 'TOEFL Score': '120', 'University Rating': '5', 'SOP': '4.5', 'LOR': '4.5', 'CGPA': '9.6', 'Research': '1', 'Chance of Admit': '0.94'}\n",
      "{'_id': ObjectId('5e74c0f1b6e0ce74542d492e'), 'Serial No': '34', 'GRE Score': '340', 'TOEFL Score': '114', 'University Rating': '5', 'SOP': '4', 'LOR': '4', 'CGPA': '9.6', 'Research': '1', 'Chance of Admit': '0.9'}\n",
      "{'_id': ObjectId('5e74c0f1b6e0ce74542d495e'), 'Serial No': '82', 'GRE Score': '340', 'TOEFL Score': '120', 'University Rating': '4', 'SOP': '5', 'LOR': '5', 'CGPA': '9.5', 'Research': '1', 'Chance of Admit': '0.96'}\n",
      "{'_id': ObjectId('5e74c0f1b6e0ce74542d4961'), 'Serial No': '85', 'GRE Score': '340', 'TOEFL Score': '115', 'University Rating': '5', 'SOP': '4.5', 'LOR': '4.5', 'CGPA': '9.45', 'Research': '1', 'Chance of Admit': '0.94'}\n",
      "{'_id': ObjectId('5e74c0f1b6e0ce74542d499c'), 'Serial No': '144', 'GRE Score': '340', 'TOEFL Score': '120', 'University Rating': '4', 'SOP': '4.5', 'LOR': '4', 'CGPA': '9.92', 'Research': '1', 'Chance of Admit': '0.97'}\n",
      "{'_id': ObjectId('5e74c0f1b6e0ce74542d49d7'), 'Serial No': '203', 'GRE Score': '340', 'TOEFL Score': '120', 'University Rating': '5', 'SOP': '4.5', 'LOR': '4.5', 'CGPA': '9.91', 'Research': '1', 'Chance of Admit': '0.97'}\n",
      "{'_id': ObjectId('5e74c0f1b6e0ce74542d4a29'), 'Serial No': '285', 'GRE Score': '340', 'TOEFL Score': '112', 'University Rating': '4', 'SOP': '5', 'LOR': '4.5', 'CGPA': '9.66', 'Research': '1', 'Chance of Admit': '0.94'}\n",
      "{'_id': ObjectId('5e74c0f1b6e0ce74542d4a8d'), 'Serial No': '385', 'GRE Score': '340', 'TOEFL Score': '113', 'University Rating': '4', 'SOP': '5', 'LOR': '5', 'CGPA': '9.74', 'Research': '1', 'Chance of Admit': '0.96'}\n",
      "{'_id': ObjectId('5e74c0f1b6e0ce74542d4aba'), 'Serial No': '430', 'GRE Score': '340', 'TOEFL Score': '115', 'University Rating': '5', 'SOP': '5', 'LOR': '4.5', 'CGPA': '9.06', 'Research': '1', 'Chance of Admit': '0.95'}\n"
     ]
    }
   ],
   "source": [
    "# we can sort the above results as well, this has been sorted in ascending order\n",
    "\n",
    "result_GRE= collection.find(my_db_query).sort('GRE Score')\n",
    "for res in result_GRE:\n",
    "    print(res)"
   ]
  },
  {
   "cell_type": "code",
   "execution_count": 43,
   "metadata": {},
   "outputs": [
    {
     "name": "stdout",
     "output_type": "stream",
     "text": [
      "{'_id': ObjectId('5e74c0f1b6e0ce74542d4926'), 'Serial No': '26', 'GRE Score': '340', 'TOEFL Score': '120', 'University Rating': '5', 'SOP': '4.5', 'LOR': '4.5', 'CGPA': '9.6', 'Research': '1', 'Chance of Admit': '0.94'}\n",
      "{'_id': ObjectId('5e74c0f1b6e0ce74542d492e'), 'Serial No': '34', 'GRE Score': '340', 'TOEFL Score': '114', 'University Rating': '5', 'SOP': '4', 'LOR': '4', 'CGPA': '9.6', 'Research': '1', 'Chance of Admit': '0.9'}\n",
      "{'_id': ObjectId('5e74c0f1b6e0ce74542d495e'), 'Serial No': '82', 'GRE Score': '340', 'TOEFL Score': '120', 'University Rating': '4', 'SOP': '5', 'LOR': '5', 'CGPA': '9.5', 'Research': '1', 'Chance of Admit': '0.96'}\n",
      "{'_id': ObjectId('5e74c0f1b6e0ce74542d4961'), 'Serial No': '85', 'GRE Score': '340', 'TOEFL Score': '115', 'University Rating': '5', 'SOP': '4.5', 'LOR': '4.5', 'CGPA': '9.45', 'Research': '1', 'Chance of Admit': '0.94'}\n",
      "{'_id': ObjectId('5e74c0f1b6e0ce74542d499c'), 'Serial No': '144', 'GRE Score': '340', 'TOEFL Score': '120', 'University Rating': '4', 'SOP': '4.5', 'LOR': '4', 'CGPA': '9.92', 'Research': '1', 'Chance of Admit': '0.97'}\n",
      "{'_id': ObjectId('5e74c0f1b6e0ce74542d49d7'), 'Serial No': '203', 'GRE Score': '340', 'TOEFL Score': '120', 'University Rating': '5', 'SOP': '4.5', 'LOR': '4.5', 'CGPA': '9.91', 'Research': '1', 'Chance of Admit': '0.97'}\n",
      "{'_id': ObjectId('5e74c0f1b6e0ce74542d4a29'), 'Serial No': '285', 'GRE Score': '340', 'TOEFL Score': '112', 'University Rating': '4', 'SOP': '5', 'LOR': '4.5', 'CGPA': '9.66', 'Research': '1', 'Chance of Admit': '0.94'}\n",
      "{'_id': ObjectId('5e74c0f1b6e0ce74542d4a8d'), 'Serial No': '385', 'GRE Score': '340', 'TOEFL Score': '113', 'University Rating': '4', 'SOP': '5', 'LOR': '5', 'CGPA': '9.74', 'Research': '1', 'Chance of Admit': '0.96'}\n",
      "{'_id': ObjectId('5e74c0f1b6e0ce74542d4aba'), 'Serial No': '430', 'GRE Score': '340', 'TOEFL Score': '115', 'University Rating': '5', 'SOP': '5', 'LOR': '4.5', 'CGPA': '9.06', 'Research': '1', 'Chance of Admit': '0.95'}\n",
      "{'_id': ObjectId('5e74c0f1b6e0ce74542d493c'), 'Serial No': '48', 'GRE Score': '339', 'TOEFL Score': '119', 'University Rating': '5', 'SOP': '4.5', 'LOR': '4', 'CGPA': '9.7', 'Research': '0', 'Chance of Admit': '0.89'}\n",
      "{'_id': ObjectId('5e74c0f1b6e0ce74542d498f'), 'Serial No': '131', 'GRE Score': '339', 'TOEFL Score': '114', 'University Rating': '5', 'SOP': '4', 'LOR': '4.5', 'CGPA': '9.76', 'Research': '1', 'Chance of Admit': '0.96'}\n",
      "{'_id': ObjectId('5e74c0f1b6e0ce74542d49a1'), 'Serial No': '149', 'GRE Score': '339', 'TOEFL Score': '116', 'University Rating': '4', 'SOP': '4', 'LOR': '3.5', 'CGPA': '9.8', 'Research': '1', 'Chance of Admit': '0.96'}\n",
      "{'_id': ObjectId('5e74c0f1b6e0ce74542d492d'), 'Serial No': '33', 'GRE Score': '338', 'TOEFL Score': '118', 'University Rating': '4', 'SOP': '3', 'LOR': '4.5', 'CGPA': '9.4', 'Research': '1', 'Chance of Admit': '0.91'}\n",
      "{'_id': ObjectId('5e74c0f1b6e0ce74542d4978'), 'Serial No': '108', 'GRE Score': '338', 'TOEFL Score': '117', 'University Rating': '4', 'SOP': '3.5', 'LOR': '4.5', 'CGPA': '9.46', 'Research': '1', 'Chance of Admit': '0.91'}\n",
      "{'_id': ObjectId('5e74c0f1b6e0ce74542d49e1'), 'Serial No': '213', 'GRE Score': '338', 'TOEFL Score': '120', 'University Rating': '4', 'SOP': '5', 'LOR': '5', 'CGPA': '9.66', 'Research': '1', 'Chance of Admit': '0.95'}\n",
      "{'_id': ObjectId('5e74c0f1b6e0ce74542d4a77'), 'Serial No': '363', 'GRE Score': '338', 'TOEFL Score': '115', 'University Rating': '5', 'SOP': '4.5', 'LOR': '5', 'CGPA': '9.23', 'Research': '1', 'Chance of Admit': '0.91'}\n"
     ]
    }
   ],
   "source": [
    "# we can sort the above results in descending order\n",
    "\n",
    "result_GRE= collection.find(my_db_query).sort('GRE Score',-1)\n",
    "for res in result_GRE:\n",
    "    print(res)"
   ]
  },
  {
   "cell_type": "code",
   "execution_count": 44,
   "metadata": {},
   "outputs": [
    {
     "name": "stdout",
     "output_type": "stream",
     "text": [
      "1\n"
     ]
    }
   ],
   "source": [
    "# Deleting records from mongo DB:\n",
    "# finding the rows satisfying a given criteria\n",
    "my_db_query={'GRE Score':'337'}\n",
    "x=collection.delete_one(my_db_query) # the deletion step\n",
    "print(x.deleted_count)"
   ]
  },
  {
   "cell_type": "markdown",
   "metadata": {},
   "source": [
    "We have succesfully deleted one row/record from the collection.\n",
    "\n",
    "Similarly, for deleting multiple rows, we can use **collection.delete_many(my_deb_query)**\n",
    "\n",
    "For deleting all documents of a collection, we can use **collection.delete_many({})**"
   ]
  },
  {
   "cell_type": "code",
   "execution_count": 45,
   "metadata": {},
   "outputs": [],
   "source": [
    "# For dropping an entire collection\n",
    "collection_to_drop=db['test_collection'] # drops the entire collection named 'test collection'\n",
    "collection_to_drop.drop()"
   ]
  },
  {
   "cell_type": "code",
   "execution_count": 48,
   "metadata": {},
   "outputs": [
    {
     "name": "stdout",
     "output_type": "stream",
     "text": [
      "9\n"
     ]
    }
   ],
   "source": [
    "# updating the values present in collection\n",
    "\n",
    "update_criteria={'GRE Score':'340'}\n",
    "new_values= { \"$set\": { \"GRE Score\": \"350\" } }\n",
    "\n",
    "x = collection.update_many(update_criteria, new_values)\n",
    "\n",
    "print(x.modified_count)"
   ]
  },
  {
   "cell_type": "markdown",
   "metadata": {},
   "source": [
    "We have updated the nine columns with GRE Score 340 with GRE Score 350.\n",
    "\n",
    "Similarly, we can update only one row by using the function **update_one(update_criteria, new_values)**"
   ]
  },
  {
   "cell_type": "markdown",
   "metadata": {},
   "source": []
  },
  {
   "cell_type": "code",
   "execution_count": null,
   "metadata": {},
   "outputs": [],
   "source": []
  }
 ],
 "metadata": {
  "kernelspec": {
   "display_name": "Python 3",
   "language": "python",
   "name": "python3"
  },
  "language_info": {
   "codemirror_mode": {
    "name": "ipython",
    "version": 3
   },
   "file_extension": ".py",
   "mimetype": "text/x-python",
   "name": "python",
   "nbconvert_exporter": "python",
   "pygments_lexer": "ipython3",
   "version": "3.7.3"
  }
 },
 "nbformat": 4,
 "nbformat_minor": 2
}
