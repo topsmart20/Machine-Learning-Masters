{
 "cells": [
  {
   "cell_type": "markdown",
   "metadata": {},
   "source": [
    "1.\tWhat is Regression?"
   ]
  },
  {
   "cell_type": "markdown",
   "metadata": {},
   "source": [
    "Regression is a ML algorithm that can be trained to predict real numbered or continuos value outputs."
   ]
  },
  {
   "cell_type": "markdown",
   "metadata": {},
   "source": [
    "2.\tWhat is Linear Regression?"
   ]
  },
  {
   "cell_type": "markdown",
   "metadata": {},
   "source": [
    "Linear Regression is a regression algorithm which depicts relationship between dependent and one or more independent variables with staright line."
   ]
  },
  {
   "cell_type": "markdown",
   "metadata": {},
   "source": [
    "3.\tWhen to use Linear Regression? Explain the equation of a straight line."
   ]
  },
  {
   "cell_type": "markdown",
   "metadata": {},
   "source": [
    "We can use linear regression when dependent variable y has a linear relationship with dependent variable x, or just plot/visualize  it if the data points are linear, one can use linear regression."
   ]
  },
  {
   "cell_type": "markdown",
   "metadata": {},
   "source": [
    "y = c + mc      <br>        OR       <br>            y_hat = theta_0 + theta_1*x"
   ]
  },
  {
   "cell_type": "markdown",
   "metadata": {},
   "source": [
    "where c/theta_0 = intercept, m/theta_1=slope and x = independent variables or features"
   ]
  },
  {
   "cell_type": "markdown",
   "metadata": {},
   "source": [
    "4.\tWhat kind of plots will you use to showcase the relationship amongst the columns?"
   ]
  },
  {
   "cell_type": "markdown",
   "metadata": {},
   "source": [
    "scatter plots"
   ]
  },
  {
   "cell_type": "markdown",
   "metadata": {},
   "source": [
    "5.\tHow is the best fit line chosen?"
   ]
  },
  {
   "cell_type": "markdown",
   "metadata": {},
   "source": [
    "With the help of Gradient Descent best fit line is choosen."
   ]
  },
  {
   "cell_type": "markdown",
   "metadata": {},
   "source": [
    "6.\tWhat is gradient descent, and why is it used? Explain the maths."
   ]
  },
  {
   "cell_type": "markdown",
   "metadata": {},
   "source": [
    "It's an optimization algorithm used to minimize some function by iteratively moving in the direction of steepest descent as defined by the negative of the gradient."
   ]
  },
  {
   "cell_type": "markdown",
   "metadata": {},
   "source": [
    "It's used to find the best fit line."
   ]
  },
  {
   "cell_type": "markdown",
   "metadata": {},
   "source": [
    "First we partially differentiate out cost function wrt m and b. Then we get our new m and b. Then to solve the gradient, we iterate through our data points using our new m and b values and compute the partial derivatives.This new gradient tells us the slope of our cost function at our surrent position and the direction we should move to update our parameters. and lastly the size of our update is controlled by learning rate."
   ]
  },
  {
   "cell_type": "markdown",
   "metadata": {},
   "source": [
    "7.\tWhat are residuals?"
   ]
  },
  {
   "cell_type": "markdown",
   "metadata": {},
   "source": [
    "They are differences between observed and predicted values"
   ]
  },
  {
   "cell_type": "markdown",
   "metadata": {},
   "source": [
    "8.\tWhat is correlation?"
   ]
  },
  {
   "cell_type": "markdown",
   "metadata": {},
   "source": [
    "It tells how two variables respond/move with respect to each other."
   ]
  },
  {
   "cell_type": "markdown",
   "metadata": {},
   "source": [
    "9.\tWhat is multicollinearity?"
   ]
  },
  {
   "cell_type": "markdown",
   "metadata": {},
   "source": [
    "It means there are two or more than two independent variables(X) which are dependent on each other."
   ]
  },
  {
   "cell_type": "markdown",
   "metadata": {},
   "source": [
    "10.\tHow to detect multicollinearity?"
   ]
  },
  {
   "cell_type": "markdown",
   "metadata": {},
   "source": [
    "There are two ways to detect multicollinearity, 1) Correlation Heat Map(CHM) and 2) Variance Inflation Factor(VIF)"
   ]
  },
  {
   "cell_type": "markdown",
   "metadata": {},
   "source": [
    "11.\tWhat are the remedies for multicollinearity?"
   ]
  },
  {
   "cell_type": "markdown",
   "metadata": {},
   "source": [
    "1) Do nothing, 2) Remove variable responsible for mc, 3)combine correlated values, 4) PCA"
   ]
  },
  {
   "cell_type": "markdown",
   "metadata": {},
   "source": [
    "12.\tWhat is the R-Squared Statistics?"
   ]
  },
  {
   "cell_type": "markdown",
   "metadata": {},
   "source": [
    "It indicates the percentage of the variance in the dependent variable that the independent variables explain collectively. "
   ]
  },
  {
   "cell_type": "markdown",
   "metadata": {},
   "source": [
    "13.\tWhat is an adjusted R-Squared Statistics?"
   ]
  },
  {
   "cell_type": "markdown",
   "metadata": {},
   "source": [
    "The adjusted R-squared is a modified version of R-squared that has been adjusted for the number of predictors in the mode"
   ]
  },
  {
   "cell_type": "markdown",
   "metadata": {},
   "source": [
    "14.\tWhy do we use adj R-squared?"
   ]
  },
  {
   "cell_type": "markdown",
   "metadata": {},
   "source": [
    "Adjusted R-squared is used to determine how reliable the correlation is and how much is determined by the addition of independent variables"
   ]
  },
  {
   "cell_type": "markdown",
   "metadata": {},
   "source": [
    "15.\tWhy adj R-squared decreases when we use incompetent variables?\n",
    "\n"
   ]
  },
  {
   "cell_type": "markdown",
   "metadata": {},
   "source": [
    "The adjusted R-squared is a modified version of R-squared that has been adjusted for the number of predictors in the model. The adjusted R-squared increases only if the new term improves the model more than would be expected by chance. <strong>It decreases when a predictor improves the model by less than expected by chance.</strong>"
   ]
  },
  {
   "cell_type": "markdown",
   "metadata": {},
   "source": [
    "16.\tHow to interpret a Linear Regression model?"
   ]
  },
  {
   "cell_type": "markdown",
   "metadata": {},
   "source": [
    "Regression analysis generates an equation to describe the statistical relationship between one or more predictor variables and the response variable. Through it we can interpret"
   ]
  },
  {
   "cell_type": "markdown",
   "metadata": {},
   "source": [
    "17.\tWhat is the difference between fit, fit_transform and predict methods?"
   ]
  },
  {
   "cell_type": "markdown",
   "metadata": {},
   "source": [
    "fit: used to train your model based on your dependent and independent variables."
   ]
  },
  {
   "cell_type": "markdown",
   "metadata": {},
   "source": [
    "predict: Given the input, predict fn provides the output based on your trained dataset"
   ]
  },
  {
   "cell_type": "markdown",
   "metadata": {},
   "source": [
    "fit_tranformed: It initial fits/trains of parameters on the training set x, but it also returns a transformed x"
   ]
  },
  {
   "cell_type": "markdown",
   "metadata": {},
   "source": [
    "18.\tHow do you plot the least squared line?"
   ]
  },
  {
   "cell_type": "markdown",
   "metadata": {},
   "source": [
    "<strong>I copied it from a source but I understand it </strong>\n",
    "\n",
    "\n",
    "Line of Best Fit\n",
    "Imagine you have some points, and want to have a line that best fits them like this:\n",
    "\n",
    "scatter plot ice cream vs temp with line\n",
    "We can place the line \"by eye\": try to have the line as close as possible to all points, and a similar number of points above and below the line.\n",
    "\n",
    "But for better accuracy let's see how to calculate the line using Least Squares Regression.\n",
    "\n",
    "The Line\n",
    "Our aim is to calculate the values m (slope) and b (y-intercept) in the equation of a line :\n",
    "\n",
    "y = mx + b\n",
    "Where:\n",
    "\n",
    "y = how far up\n",
    "x = how far along\n",
    "m = Slope or Gradient (how steep the line is)\n",
    "b = the Y Intercept (where the line crosses the Y axis)\n",
    "Steps\n",
    "To find the line of best fit for N points:\n",
    "\n",
    "Step 1: For each (x,y) point calculate x2 and xy\n",
    "\n",
    "Step 2: Sum all x, y, x2 and xy, which gives us Σx, Σy, Σx2 and Σxy (Σ means \"sum up\")\n",
    "\n",
    "Step 3: Calculate Slope m:\n",
    "\n",
    "m =  N Σ(xy) − Σx ΣyN Σ(x2) − (Σx)2 \n",
    "\n",
    "(N is the number of points.)\n",
    "\n",
    "Step 4: Calculate Intercept b:\n",
    "\n",
    "b =  Σy − m ΣxN \n",
    "\n",
    "Step 5: Assemble the equation of a line\n",
    "\n",
    "y = mx + b\n",
    "\n",
    "Done!\n",
    "\n",
    "Example\n",
    "Let's have an example to see how to do it!\n",
    "\n",
    "ice cream\n",
    "Example: Sam found how many hours of sunshine vs how many ice creams were sold at the shop from Monday to Friday:\n",
    "\"x\"\n",
    "Hours of Sunshine\t\"y\"\n",
    "Ice Creams Sold\n",
    "2\t4\n",
    "3\t5\n",
    "5\t7\n",
    "7\t10\n",
    "9\t15\n",
    "Let us find the best m (slope) and b (y-intercept) that suits that data\n",
    "\n",
    "y = mx + b\n",
    "\n",
    " \n",
    "\n",
    "Step 1: For each (x,y) calculate x2 and xy:\n",
    "\n",
    "x\ty\tx2\txy\n",
    "2\t4\t4\t8\n",
    "3\t5\t9\t15\n",
    "5\t7\t25\t35\n",
    "7\t10\t49\t70\n",
    "9\t15\t81\t135\n",
    "Step 2: Sum x, y, x2 and xy (gives us Σx, Σy, Σx2 and Σxy):\n",
    "\n",
    "x\ty\tx2\txy\n",
    "2\t4\t4\t8\n",
    "3\t5\t9\t15\n",
    "5\t7\t25\t35\n",
    "7\t10\t49\t70\n",
    "9\t15\t81\t135\n",
    "Σx: 26\tΣy: 41\tΣx2: 168\tΣxy: 263\n",
    "Also N (number of data values) = 5\n",
    "\n",
    "Step 3: Calculate Slope m:\n",
    "\n",
    "m =  N Σ(xy) − Σx ΣyN Σ(x2) − (Σx)2 \n",
    "\n",
    "=  5 x 263 − 26 x 415 x 168 − 262 \n",
    "\n",
    "=  1315 − 1066840 − 676 \n",
    "\n",
    "=  249164  = 1.5183...\n",
    "\n",
    "Step 4: Calculate Intercept b:\n",
    "\n",
    "b =  Σy − m ΣxN\n",
    "\n",
    "=  41 − 1.5183 x 265\n",
    "\n",
    "= 0.3049...\n",
    "\n",
    "Step 5: Assemble the equation of a line:\n",
    "\n",
    "y = mx + b\n",
    "\n",
    "y = 1.518x + 0.305\n",
    "\n",
    "Let's see how it works out:\n",
    "\n",
    "x\ty\ty = 1.518x + 0.305\terror\n",
    "2\t4\t3.34\t−0.66\n",
    "3\t5\t4.86\t−0.14\n",
    "5\t7\t7.89\t0.89\n",
    "7\t10\t10.93\t0.93\n",
    "9\t15\t13.97\t−1.03\n",
    "Here are the (x,y) points and the line y = 1.518x + 0.305 on a graph:\n",
    "\n",
    "least squares example graph\n",
    "\n",
    "Nice fit!\n",
    "\n",
    "Sam hears the weather forecast which says \"we expect 8 hours of sun tomorrow\", so he uses the above equation to estimate that he will sell\n",
    "\n",
    "y = 1.518 x 8 + 0.305 = 12.45 Ice Creams\n",
    "\n",
    "Sam makes fresh waffle cone mixture for 14 ice creams just in case. Yum."
   ]
  },
  {
   "cell_type": "markdown",
   "metadata": {},
   "source": [
    "19.\tWhat are Bias and Variance? What is Bias Variance Trade-off?"
   ]
  },
  {
   "cell_type": "markdown",
   "metadata": {},
   "source": [
    "Bias basically mean partiallity, variance means scatterdness of data and Bias Variance Trade off happens in case of multicollinearity, when on there comes a point where on altering bias and variance only results increament of error in our model. So the point/value where both bias and variance results in least value of error is the point of bias variance tradeoff. "
   ]
  },
  {
   "cell_type": "markdown",
   "metadata": {},
   "source": [
    "20.\tWhat is the null and alternate hypothesis?"
   ]
  },
  {
   "cell_type": "markdown",
   "metadata": {},
   "source": [
    "A null hypothesis is a hypothesis that says there is no statistical significance between the two variables. It is usually the hypothesis a researcher or experimenter will try to disprove or discredit. An alternative hypothesis is one that states there is a statistically significant relationship between two variables"
   ]
  },
  {
   "cell_type": "markdown",
   "metadata": {},
   "source": [
    "21.\tWhat is multiple linear regression?"
   ]
  },
  {
   "cell_type": "markdown",
   "metadata": {},
   "source": [
    "It's basically extension of simple linear regression. It uses multiple independent variables/features(X) that best predicts the value of the target/dependent variable."
   ]
  },
  {
   "cell_type": "markdown",
   "metadata": {},
   "source": [
    "22.\tWhat is the OLS method? Derive the formulae used in the OLS method."
   ]
  },
  {
   "cell_type": "markdown",
   "metadata": {},
   "source": [
    "ordinary least squares is a type of linear least squares method for estimating the unknown parameters in a linear regression model.\n",
    "\n",
    "Sorry but I copy pasted it, although I understand it:\n",
    "Derivation of OLS Estimator\n",
    "In class we set up the minimization problem that is the starting point for deriving the formulas for the OLS\n",
    "intercept and slope coefficient. That problem was,\n",
    "min\n",
    "βˆ0,βˆ1\n",
    "X\n",
    "N\n",
    "i=1\n",
    "(yi − βˆ\n",
    "0 − βˆ\n",
    "1xi)\n",
    "2\n",
    ". (1)\n",
    "As we learned in calculus, a univariate optimization involves taking the derivative and setting equal to 0.\n",
    "Similarly, this minimization problem above is solved by setting the partial derivatives equal to 0. That is,\n",
    "take the derivative of (1) with respect to βˆ\n",
    "0 and set it equal to 0. We then do the same thing for βˆ\n",
    "1. This\n",
    "gives us,\n",
    "∂W\n",
    "∂βˆ\n",
    "0\n",
    "=\n",
    "X\n",
    "N\n",
    "i=1\n",
    "−2(yi − βˆ\n",
    "0 − βˆ\n",
    "1xi) = 0 (2)\n",
    "and,\n",
    "∂W\n",
    "∂βˆ\n",
    "1\n",
    "=\n",
    "X\n",
    "N\n",
    "i=1\n",
    "−2xi(yi − βˆ\n",
    "0 − βˆ\n",
    "1xi) = 0 (3)\n",
    "Note that I have used W to denote PN\n",
    "i=1(yi − βˆ\n",
    "0 − βˆ\n",
    "1xi)\n",
    "2\n",
    ". Now our task is to solve (2) and (3) using some\n",
    "algebra tricks and some properties of summations. Lets start with the first order condition for βˆ\n",
    "0 (this is\n",
    "Equation (2)). We can immediately get rid of the −2 and write PN\n",
    "i=1 yi −βˆ\n",
    "0 −βˆ\n",
    "1xi = 0. Now lets rearrange\n",
    "this expression and make use of the algebraic fact that PN\n",
    "i=1 yi = Ny¯. This leaves us with,\n",
    "Nβˆ\n",
    "0 = Ny¯ − Nβˆ\n",
    "1x. ¯ (4)\n",
    "We simply divide everything by N and amazing, we have the formula that Professor Sadoulet gave in lecture!\n",
    "That is,\n",
    "βˆ\n",
    "0 = ¯y − βˆ\n",
    "1x. ¯ (5)\n",
    "Now lets consider solving for βˆ\n",
    "1. This one is a bit more tricky. We can first get rid of the −2 and rearrange\n",
    "Equation (3) to get PN\n",
    "i=1 xiyi − βˆ\n",
    "0xi − βˆ\n",
    "1x\n",
    "2\n",
    "i = 0. Now lets substitute our result for βˆ\n",
    "0 into this expression\n",
    "and this gives us,\n",
    "X\n",
    "N\n",
    "i=1\n",
    "xiyi − (¯y − βˆ\n",
    "1x¯)xi − βˆ\n",
    "1x\n",
    "2\n",
    "i = 0 (6)\n",
    "Note that the summation is applying to everything in the above equation. We can distribute the sum to\n",
    "each term to get,\n",
    "X\n",
    "N\n",
    "i=1\n",
    "xiyi − y¯\n",
    "X\n",
    "N\n",
    "i=1\n",
    "xi + βˆ\n",
    "1x¯\n",
    "X\n",
    "N\n",
    "i=1\n",
    "xi − βˆ\n",
    "1\n",
    "X\n",
    "N\n",
    "i=1\n",
    "x\n",
    "2\n",
    "i = 0. (7)\n",
    "We have of course used the property that you can always pull a constant term out in front of a summation.\n",
    "Lets again use the property that PN\n",
    "i=1 yi = Ny¯ (and of course this also means that PN\n",
    "i=1 xi = Nx¯). We\n",
    "apply these facts to Equation (7) and solve for βˆ\n",
    "1. This gives,\n",
    "βˆ\n",
    "1 =\n",
    "PN\n",
    "i=1 xiyi − Nx¯y¯\n",
    "PN\n",
    "i=1 x\n",
    "2\n",
    "i − Nx¯\n",
    "2\n",
    ". (8)\n",
    "Doesn’t quite look like the formula from class, right? Well, let us just use a couple more tricks. You can\n",
    "either look up or derive for yourself that PN\n",
    "i=1(xi − x¯)(yi − y¯) = PN\n",
    "i=1 xiyi − Nx¯y¯. You can also easily\n",
    "derive that PN\n",
    "i=1(xi − x¯)\n",
    "2 =\n",
    "PN\n",
    "i=1 x\n",
    "2\n",
    "i − Nx¯\n",
    "2\n",
    ". These two can be derived very easily using algebra. Now we\n",
    "substitute these two properties into (8) and we have something that looks very, very familiar:\n",
    "βˆ\n",
    "1 =\n",
    "PN\n",
    "i=1(xi − x¯)(yi − y¯)\n",
    "PN\n",
    "i=1(xi − x¯)\n",
    "2\n",
    ". (9)\n",
    "All done!"
   ]
  },
  {
   "cell_type": "markdown",
   "metadata": {},
   "source": [
    "23.\tWhat is the p-value? How does it help in feature selection?"
   ]
  },
  {
   "cell_type": "markdown",
   "metadata": {},
   "source": [
    " The p-value for each term tests the null hypothesis that the coefficient is equal to zero (no effect). A low p-value (< 0.05) indicates that you can reject the null hypothesis. In other words, a predictor that has a low p-value is likely to be a meaningful addition to your model because changes in the predictor's value are related to changes in the response variable."
   ]
  },
  {
   "cell_type": "markdown",
   "metadata": {},
   "source": [
    "24.\tHow to handle categorical values in the data?"
   ]
  },
  {
   "cell_type": "markdown",
   "metadata": {},
   "source": [
    "By using the following methods:\n",
    "    Label Encoding,\n",
    "    Dummy/One-hot conde encoding etc"
   ]
  },
  {
   "cell_type": "markdown",
   "metadata": {},
   "source": [
    "25.\tWhat is regularization, and why do we need it?"
   ]
  },
  {
   "cell_type": "markdown",
   "metadata": {},
   "source": [
    " In the context of machine learning, regularization is the process which regularizes or shrinks the coefficients towards zero. In simple words, regularization discourages learning a more complex or flexible model, to prevent overfitting."
   ]
  },
  {
   "cell_type": "markdown",
   "metadata": {},
   "source": [
    "26.\tExplain Ridge Regression."
   ]
  },
  {
   "cell_type": "markdown",
   "metadata": {},
   "source": [
    "Ridge Regression is a technique for analyzing multiple regression data that suffer from multicollinearity."
   ]
  },
  {
   "cell_type": "markdown",
   "metadata": {},
   "source": [
    "27.\tExplain Lasso Regression."
   ]
  },
  {
   "cell_type": "markdown",
   "metadata": {},
   "source": [
    " It erforms both variable selection and regularization in order to enhance the prediction accuracy and interpretability of the statistical model it produces."
   ]
  },
  {
   "cell_type": "markdown",
   "metadata": {},
   "source": [
    "28.\tExplain Elastic Net."
   ]
  },
  {
   "cell_type": "markdown",
   "metadata": {},
   "source": [
    " fitting of linear or logistic regression models, the elastic net is a regularized regression method that linearly combines the L1 and L2 penalties of the lasso and ridge methods."
   ]
  },
  {
   "cell_type": "markdown",
   "metadata": {},
   "source": [
    "29.\tWhy do we do a train test split?"
   ]
  },
  {
   "cell_type": "markdown",
   "metadata": {},
   "source": [
    "There are many advantages of using it, few of them are:\n",
    "    1) to check wether our model performs good only on training data or does it actually perform good in outside world. 2) Check mc, overfitting underfitting etc "
   ]
  },
  {
   "cell_type": "markdown",
   "metadata": {},
   "source": [
    "30.\tWhat is polynomial regression? When to use it?"
   ]
  },
  {
   "cell_type": "markdown",
   "metadata": {},
   "source": [
    "Polynomial Regression is a form of linear regression in which the relationship between the independent variable x and dependent variable y is modeled as an nth degree polynomial. We use it when we to model a non-linear relationship between the independent and dependent variables "
   ]
  },
  {
   "cell_type": "markdown",
   "metadata": {},
   "source": [
    "31.\tExplain the steps for GCP deployment."
   ]
  },
  {
   "cell_type": "markdown",
   "metadata": {},
   "source": [
    "Go to https://cloud.google.com/ and create an account if already haven’t created one. Then go to the console of your account.\n",
    "\n",
    "Go to IAM and admin(highlighted) and click manage resources.\n",
    "\n",
    "\n",
    "Click CREATE PROJECT to create a new project for deployment.\n",
    "\n",
    "Once the project gets created, select App Engine and select Dashboard.\n",
    "\n",
    "\n",
    "Go to https://dl.google.com/dl/cloudsdk/channels/rapid/GoogleCloudSDKInstaller.exe to download the google cloud SDK to your machine.\n",
    "\n",
    "Click Start Tutorial on the screen and select Python app and click start.\n",
    "\n",
    "Check whether the correct project name is displayed and then click next.\n",
    "\n",
    "Create a file app.yaml and put runtime: python37 in that file as shown\n",
    "Create a requirements.txt file by opening the command prompt/anaconda prompt, navigate to the project folder and enter the command pip freeze > requirements.txt\n",
    "It is recommended to use separate environments for different projects.\n",
    "\n",
    "The contents of requirements.txt are:\n",
    "\n",
    "certifi==2019.11.28\n",
    "\n",
    "Click==7.0\n",
    "\n",
    "Flask==1.1.1\n",
    "\n",
    "Flask-Cors==3.0.8\n",
    "\n",
    "itsdangerous==1.1.0\n",
    "\n",
    "Jinja2==2.10.3\n",
    "\n",
    "joblib==0.14.1\n",
    "\n",
    "MarkupSafe==1.1.1\n",
    "\n",
    "numpy==1.18.0\n",
    "\n",
    "scikit-learn==0.22.1\n",
    "\n",
    "scipy==1.4.1\n",
    "\n",
    "six==1.13.0\n",
    "\n",
    "Werkzeug==0.16.0\n",
    "\n",
    "wincertstore==0.2\n",
    "\n",
    "xgboost==0.90\n",
    "\n",
    "Your python application file should be called ‘main.py’. It is a GCP specific requirement.\n",
    "Open gcloud shell , navigate to the project folder and enter the command gcloud init to initialise the gcloud context.\n",
    "It asks you to select from the list of available projects.\n",
    "\n",
    "Once the project name is selected, enter the command gcloud app deploy app.yaml --project (project name)\n",
    "\n",
    "After executing the above command, GCP will ask you to enter the region for your application. Choose the appropriate one.\n",
    "\n",
    "\n",
    "GCP will ask for the services to be deployed. Enter ‘y’ to deploy the services.\n",
    "\n",
    "\n",
    "And then it will give you the link for your app.\n",
    "\n",
    "To save money, go to settings and disable your app.\n",
    "\n",
    "\n",
    "The final app can be accessed using Postman as shown below: Final app screenshot:"
   ]
  },
  {
   "cell_type": "markdown",
   "metadata": {},
   "source": [
    "32. What difficulties did you face in cloud deployment?"
   ]
  },
  {
   "cell_type": "markdown",
   "metadata": {},
   "source": [
    "only problem I faced was while pushing my files in heroku server, requirements issues were comming, so only thing I did to solve it was I added gunicorn and it's version in requirements.txt file "
   ]
  },
  {
   "cell_type": "code",
   "execution_count": null,
   "metadata": {},
   "outputs": [],
   "source": []
  }
 ],
 "metadata": {
  "kernelspec": {
   "display_name": "Python 3",
   "language": "python",
   "name": "python3"
  },
  "language_info": {
   "codemirror_mode": {
    "name": "ipython",
    "version": 3
   },
   "file_extension": ".py",
   "mimetype": "text/x-python",
   "name": "python",
   "nbconvert_exporter": "python",
   "pygments_lexer": "ipython3",
   "version": "3.7.6"
  }
 },
 "nbformat": 4,
 "nbformat_minor": 2
}
