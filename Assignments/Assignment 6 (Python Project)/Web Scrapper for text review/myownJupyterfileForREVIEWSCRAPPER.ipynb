{
 "cells": [
  {
   "cell_type": "code",
   "execution_count": 12,
   "metadata": {},
   "outputs": [],
   "source": [
    "import requests\n",
    "from bs4 import BeautifulSoup as bs\n",
    "from urllib.request import urlopen as uReq"
   ]
  },
  {
   "cell_type": "code",
   "execution_count": 13,
   "metadata": {},
   "outputs": [],
   "source": [
    "searchString = 'smasung'"
   ]
  },
  {
   "cell_type": "code",
   "execution_count": 14,
   "metadata": {},
   "outputs": [],
   "source": [
    "flipkart_link = 'https://www.flipkart.com/search?q=' + searchString\n",
    "uClient = uReq(flipkart_link)\n",
    "flipkart_page = uClient.read()\n",
    "uClient.close()"
   ]
  },
  {
   "cell_type": "code",
   "execution_count": 15,
   "metadata": {},
   "outputs": [],
   "source": [
    "flipkart_html = bs(flipkart_page, 'html.parser')"
   ]
  },
  {
   "cell_type": "code",
   "execution_count": 16,
   "metadata": {},
   "outputs": [],
   "source": [
    "bigboxes = flipkart_html.findAll('div', {'class':'bhgxx2 col-12-12'})\n",
    "del bigboxes[0:3]\n",
    "box = bigboxes[0]"
   ]
  },
  {
   "cell_type": "code",
   "execution_count": 17,
   "metadata": {},
   "outputs": [
    {
     "data": {
      "text/plain": [
       "'https://www.flipkart.com/samsung-galaxy-a10s-black-32-gb/p/itm0d0ef983bbc47?pid=MOBFJPAQUNZRTVUX&lid=LSTMOBFJPAQUNZRTVUXHH6RLG&marketplace=FLIPKART&srno=s_1_2&otracker=search&fm=organic&iid=90d7f094-55c6-446d-a783-194d6575ace9.MOBFJPAQUNZRTVUX.SEARCH&ssid=3ucv9p5h4w0000001589191288798&qH=edab151136a1b4e8'"
      ]
     },
     "execution_count": 17,
     "metadata": {},
     "output_type": "execute_result"
    }
   ],
   "source": [
    "product_link = 'https://www.flipkart.com' + box.div.div.div.a['href']\n",
    "product_link"
   ]
  },
  {
   "cell_type": "code",
   "execution_count": 18,
   "metadata": {},
   "outputs": [],
   "source": [
    "uProduct = uReq(product_link)\n",
    "product_page = uProduct.read()\n",
    "uProduct.close()"
   ]
  },
  {
   "cell_type": "code",
   "execution_count": 19,
   "metadata": {},
   "outputs": [],
   "source": [
    "#product_page = requests.get(product_link)\n",
    "#product_page.encoding = 'utf-8'"
   ]
  },
  {
   "cell_type": "code",
   "execution_count": 20,
   "metadata": {},
   "outputs": [],
   "source": [
    "product_html = bs(product_page, 'html.parser')"
   ]
  },
  {
   "cell_type": "code",
   "execution_count": 21,
   "metadata": {},
   "outputs": [],
   "source": [
    "review_containers = product_html.findAll('div', {'class':'_3nrCtb'})\n",
    "review_container = review_containers[0]"
   ]
  },
  {
   "cell_type": "code",
   "execution_count": 22,
   "metadata": {},
   "outputs": [
    {
     "data": {
      "text/plain": [
       "'4'"
      ]
     },
     "execution_count": 22,
     "metadata": {},
     "output_type": "execute_result"
    }
   ],
   "source": [
    "rating = review_container.div.div.div.div.text\n",
    "rating"
   ]
  },
  {
   "cell_type": "code",
   "execution_count": 23,
   "metadata": {},
   "outputs": [
    {
     "data": {
      "text/plain": [
       "'Wonderful'"
      ]
     },
     "execution_count": 23,
     "metadata": {},
     "output_type": "execute_result"
    }
   ],
   "source": [
    "review_head = review_container.div.div.div.p.text\n",
    "review_head"
   ]
  },
  {
   "cell_type": "code",
   "execution_count": 24,
   "metadata": {},
   "outputs": [
    {
     "data": {
      "text/plain": [
       "'very nice podcast'"
      ]
     },
     "execution_count": 24,
     "metadata": {},
     "output_type": "execute_result"
    }
   ],
   "source": [
    "review = review_container.div.div.findAll('div', {'class':''})[0].div.text\n",
    "review"
   ]
  },
  {
   "cell_type": "code",
   "execution_count": 25,
   "metadata": {},
   "outputs": [
    {
     "data": {
      "text/plain": [
       "'Flipkart Customer'"
      ]
     },
     "execution_count": 25,
     "metadata": {},
     "output_type": "execute_result"
    }
   ],
   "source": [
    "cust_name = review_container.div.div.findAll('p', {'class':'_3LYOAd _3sxSiS'})[0].text\n",
    "cust_name"
   ]
  },
  {
   "cell_type": "code",
   "execution_count": 26,
   "metadata": {},
   "outputs": [],
   "source": [
    "ratings_list = []\n",
    "review_head_list = []\n",
    "review_list = []\n",
    "cust_name_list = []"
   ]
  },
  {
   "cell_type": "code",
   "execution_count": 27,
   "metadata": {},
   "outputs": [],
   "source": [
    "for i in range(0, len(review_containers)-1):\n",
    "    review_containers = product_html.findAll('div', {'class':'_3nrCtb'})\n",
    "    review_container = review_containers[i]\n",
    "    \n",
    "    rating = review_container.div.div.div.div.text\n",
    "    ratings_list.append(rating)\n",
    "    \n",
    "    review_head = review_container.div.div.div.p.text\n",
    "    review_head_list.append(review_head)\n",
    "    \n",
    "    review = review_container.div.div.findAll('div', {'class':''})[0].div.text\n",
    "    review_list.append(review)\n",
    "    \n",
    "    cust_name = review_container.div.div.findAll('p', {'class':'_3LYOAd _3sxSiS'})[0].text  \n",
    "    cust_name_list.append(cust_name)"
   ]
  },
  {
   "cell_type": "code",
   "execution_count": 28,
   "metadata": {},
   "outputs": [
    {
     "name": "stdout",
     "output_type": "stream",
     "text": [
      "Review No: 0 \n",
      "Rating: 4 \n",
      "Review Heading: Wonderful \n",
      "Review: very nice podcast \n",
      "Customer Name: Flipkart Customer\n",
      "------------------------------\n",
      "Review No: 1 \n",
      "Rating: 5 \n",
      "Review Heading: Excellent \n",
      "Review: osm product..value of money. \n",
      "Customer Name: Monika Kisku\n",
      "------------------------------\n",
      "Review No: 2 \n",
      "Rating: 5 \n",
      "Review Heading: Fabulous! \n",
      "Review: I got the mobile as expected. Thanks to Flipkart services. \n",
      "Customer Name: MD SAHANAWAZ\n",
      "------------------------------\n",
      "Review No: 3 \n",
      "Rating: 5 \n",
      "Review Heading: Brilliant \n",
      "Review: I gift for my mom.....she very happy.....thank u fki \n",
      "Customer Name: jay Ghosh \n",
      "------------------------------\n",
      "Review No: 4 \n",
      "Rating: 3 \n",
      "Review Heading: Just okay \n",
      "Review: do not buy this phone from online. totally money waste.. there are many different between online and Shop.. must buy it from any shop... \n",
      "Customer Name: Flipkart Customer\n",
      "------------------------------\n",
      "Review No: 5 \n",
      "Rating: 5 \n",
      "Review Heading: Super! \n",
      "Review: Good product \n",
      "Customer Name: Suvojit ghosh \n",
      "------------------------------\n",
      "Review No: 6 \n",
      "Rating: 2 \n",
      "Review Heading: Moderate \n",
      "Review: low quality \n",
      "Customer Name: Yaswanth Alapati\n",
      "------------------------------\n",
      "Review No: 7 \n",
      "Rating: 2 \n",
      "Review Heading: Slightly disappointed \n",
      "Review: very bad camera \n",
      "Customer Name: Baidyanath Mallick\n",
      "------------------------------\n",
      "Review No: 8 \n",
      "Rating: 4 \n",
      "Review Heading: Wonderful \n",
      "Review: Mr Prakash floor supervisor wrong commitment \n",
      "Customer Name: Mrugesh Jagdishchandra Nimbark\n",
      "------------------------------\n",
      "Review No: 9 \n",
      "Rating: 2 \n",
      "Review Heading: Not good \n",
      "Review: A low quality phone over priced \n",
      "Customer Name: Flipkart Customer\n",
      "------------------------------\n"
     ]
    }
   ],
   "source": [
    "for i in range(0, len(review_head_list)):\n",
    "    print('Review No: {} \\nRating: {} \\nReview Heading: {} \\nReview: {} \\nCustomer Name: {}'.format(i, ratings_list[i], review_head_list[i], review_list[i], cust_name_list[i]))\n",
    "    print('---'*100)"
   ]
  },
  {
   "cell_type": "code",
   "execution_count": 150,
   "metadata": {},
   "outputs": [
    {
     "data": {
      "text/plain": [
       "['Wonderful',\n",
       " 'Wonderful',\n",
       " 'Excellent',\n",
       " 'Fabulous!',\n",
       " 'Brilliant',\n",
       " 'Just okay',\n",
       " 'Super!',\n",
       " 'Moderate',\n",
       " 'Slightly disappointed',\n",
       " 'Wonderful',\n",
       " 'Not good',\n",
       " 'Wonderful',\n",
       " 'Excellent',\n",
       " 'Fabulous!',\n",
       " 'Brilliant',\n",
       " 'Just okay',\n",
       " 'Super!',\n",
       " 'Moderate',\n",
       " 'Slightly disappointed',\n",
       " 'Wonderful',\n",
       " 'Not good',\n",
       " 'Wonderful',\n",
       " 'Excellent',\n",
       " 'Fabulous!',\n",
       " 'Brilliant',\n",
       " 'Just okay',\n",
       " 'Super!',\n",
       " 'Moderate',\n",
       " 'Slightly disappointed',\n",
       " 'Wonderful',\n",
       " 'Not good',\n",
       " 'Wonderful',\n",
       " 'Excellent',\n",
       " 'Fabulous!',\n",
       " 'Brilliant',\n",
       " 'Just okay',\n",
       " 'Super!',\n",
       " 'Moderate',\n",
       " 'Slightly disappointed',\n",
       " 'Wonderful',\n",
       " 'Not good']"
      ]
     },
     "execution_count": 150,
     "metadata": {},
     "output_type": "execute_result"
    }
   ],
   "source": [
    "review_head_list"
   ]
  },
  {
   "cell_type": "code",
   "execution_count": null,
   "metadata": {},
   "outputs": [],
   "source": []
  }
 ],
 "metadata": {
  "kernelspec": {
   "display_name": "Python 3.8.2 64-bit",
   "language": "python",
   "name": "python38264bit8c76de8ad98543bf878bfdf22a7a7273"
  },
  "language_info": {
   "codemirror_mode": {
    "name": "ipython",
    "version": 3
   },
   "file_extension": ".py",
   "mimetype": "text/x-python",
   "name": "python",
   "nbconvert_exporter": "python",
   "pygments_lexer": "ipython3",
   "version": "3.8.2"
  }
 },
 "nbformat": 4,
 "nbformat_minor": 4
}
