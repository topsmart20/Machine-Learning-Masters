{
 "cells": [
  {
   "cell_type": "markdown",
   "metadata": {},
   "source": [
    "<strong>Problem Statement 1:</strong><br>\n",
    "Write a function so that the columns of the output matrix are powers of the input<br>\n",
    "vector.<br><br>\n",
    "The order of the powers is determined by the increasing boolean argument. Specifically, when<br>\n",
    "increasing is False, the i-th output column is the input vector raised element-wise to the power<br>\n",
    "of N - i - 1.<br><br>\n",
    "HINT: Such a matrix with a geometric progression in each row is named for AlexandreTheophile Vandermonde"
   ]
  },
  {
   "cell_type": "code",
   "execution_count": 11,
   "metadata": {},
   "outputs": [],
   "source": [
    "import numpy as np\n",
    "\n",
    "def vandermonde_matrix(inpt, N = None, increasing = False):\n",
    "    if N==None:\n",
    "        N = len(inpt)\n",
    "    if increasing:\n",
    "        result = [[pow(elmnt, power) for power in range(0, N)] for elmnt in inpt]\n",
    "        print(np.asanyarray(result))\n",
    "    else:\n",
    "        result = [[pow(elmnt, power) for power in range(N-1, -1, -1) ] for elmnt in inpt]\n",
    "        print(np.asanyarray(result))      "
   ]
  },
  {
   "cell_type": "code",
   "execution_count": 12,
   "metadata": {},
   "outputs": [
    {
     "name": "stdout",
     "output_type": "stream",
     "text": [
      "[[  1   1   1   1]\n",
      " [  8   4   2   1]\n",
      " [ 27   9   3   1]\n",
      " [125  25   5   1]]\n"
     ]
    }
   ],
   "source": [
    "inpt = [1,2,3,5]        \n",
    "vandermonde_matrix(inpt,increasing = False)  "
   ]
  },
  {
   "cell_type": "code",
   "execution_count": 13,
   "metadata": {},
   "outputs": [
    {
     "name": "stdout",
     "output_type": "stream",
     "text": [
      "[[  1   1   1   1]\n",
      " [  1   2   4   8]\n",
      " [  1   3   9  27]\n",
      " [  1   5  25 125]]\n"
     ]
    }
   ],
   "source": [
    "vandermonde_matrix(inpt, increasing = True)"
   ]
  },
  {
   "cell_type": "markdown",
   "metadata": {},
   "source": [
    "<br><br><br><strong>Problem Statement 2:</strong><br>\n",
    "Given a sequence of n values x1, x2, ..., xn and a window size k>0, the k-th moving average of\n",
    "the given sequence is defined as follows:<br>\n",
    "The moving average sequence has n-k+1 elements as shown below.<br>\n",
    "The moving averages with k=4 of a ten-value sequence (n=10) is shown below<br>\n",
    "i 1 2 3 4 5 6 7 8 9 10<br><br>\n",
    "===== == == == == == == == == == ==<br><br>\n",
    "Input 10 20 30 40 50 60 70 80 90 100<br><br>\n",
    "y1 25 = (10+20+30+40)/4<br><br>\n",
    "y2 35 = (20+30+40+50)/4<br><br>\n",
    "y3 45 = (30+40+50+60)/4<br><br>\n",
    "y4 55 = (40+50+60+70)/4<br><br>\n",
    "y5 65 = (50+60+70+80)/4<br><br>\n",
    "y6 75 = (60+70+80+90)/4<br><br>\n",
    "y7 85 = (70+80+90+100)/4<br><br>\n",
    "Thus, the moving average sequence has n-k+1=10-4+1=7 values.<br>\n",
    "<strong>Question:</strong> Write a function to find moving average in an array over a window:<br><br>\n",
    " Test it over [3, 5, 7, 2, 8, 10, 11, 65, 72, 81, 99, 100, 150] and window of 3."
   ]
  },
  {
   "cell_type": "code",
   "execution_count": 2,
   "metadata": {},
   "outputs": [],
   "source": [
    "def mov_avg_val(mylist, N):\n",
    "    cumsum, moving_avgs = [0], []\n",
    "    \n",
    "    for i, x in enumerate(mylist, 1):\n",
    "        cumsum.append(cumsum[i-1] + x)\n",
    "        if i>=N:\n",
    "            moving_avg = round(((cumsum[i] - cumsum[i-N])/N),2)\n",
    "            moving_avgs.append(moving_avg)\n",
    "    \n",
    "    print(\"Moving average: \", moving_avgs)\n",
    "    print(\"Length of the list l-N+1: \", len(moving_avgs))"
   ]
  },
  {
   "cell_type": "code",
   "execution_count": 3,
   "metadata": {},
   "outputs": [
    {
     "name": "stdout",
     "output_type": "stream",
     "text": [
      "Moving average:  [5.0, 4.67, 5.67, 6.67, 9.67, 28.67, 49.33, 72.67, 84.0, 93.33, 116.33]\n",
      "Length of the list l-N+1:  11\n"
     ]
    }
   ],
   "source": [
    "l = [3, 5, 7, 2, 8, 10, 11, 65, 72, 81, 99, 100, 150]\n",
    "n = 3\n",
    "mov_avg_val(l,n)"
   ]
  }
 ],
 "metadata": {
  "kernelspec": {
   "display_name": "Python 3",
   "language": "python",
   "name": "python3"
  },
  "language_info": {
   "codemirror_mode": {
    "name": "ipython",
    "version": 3
   },
   "file_extension": ".py",
   "mimetype": "text/x-python",
   "name": "python",
   "nbconvert_exporter": "python",
   "pygments_lexer": "ipython3",
   "version": "3.8.2"
  }
 },
 "nbformat": 4,
 "nbformat_minor": 4
}
