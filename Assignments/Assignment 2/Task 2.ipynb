{
 "cells": [
  {
   "cell_type": "markdown",
   "metadata": {},
   "source": [
    "<h1>Task 1</h1>"
   ]
  },
  {
   "cell_type": "markdown",
   "metadata": {},
   "source": [
    "<h3>Q1) 1.1)<br> Write a Python Program(with class concepts) to find the area of the triangle using the below\n",
    "formula.\n",
    "area = (s*(s-a)*(s-b)*(s-c)) ** 0.5<br>\n",
    "Function to take the length of the sides of triangle from user should be defined in the parent\n",
    "class and function to calculate the area should be defined in subclass.\n",
    "</h3>"
   ]
  },
  {
   "cell_type": "code",
   "execution_count": 10,
   "metadata": {},
   "outputs": [
    {
     "name": "stdout",
     "output_type": "stream",
     "text": [
      "5\n",
      "5\n",
      "5\n",
      "10.825317547305483\n"
     ]
    }
   ],
   "source": [
    "class SidesOFTriangle:\n",
    "    def __init__(self, a=2, b=2, c=2):\n",
    "        self.sideA = a\n",
    "        self.sideB = b\n",
    "        self.sideC = c\n",
    "\n",
    "\n",
    "class AreaOfTriangle(SidesOFTriangle):\n",
    "    def area(self):\n",
    "        s = (self.sideA + self.sideB + self.sideC) / 2\n",
    "        return (s * (s - self.sideA) * (s - self.sideB) * (s - self.sideC)) ** 0.5\n",
    "\n",
    "\n",
    "x, y, z = int(input()), int(input()), int(input())\n",
    "AreaOfTriangle_object = AreaOfTriangle(x, y, z)\n",
    "result = AreaOfTriangle_object.area()\n",
    "\n",
    "print(result)"
   ]
  },
  {
   "cell_type": "markdown",
   "metadata": {},
   "source": [
    "<h3>1.2)<br> Write a function filter_long_words() that takes a list of words and an integer n and returns the list\n",
    "of words that are longer than n.\n",
    "</h3>"
   ]
  },
  {
   "cell_type": "code",
   "execution_count": 4,
   "metadata": {},
   "outputs": [
    {
     "name": "stdout",
     "output_type": "stream",
     "text": [
      "['Action', 'Artificial', 'Machine']\n"
     ]
    }
   ],
   "source": [
    "def filter_long_words(iterable, n):\n",
    "    x = []\n",
    "    for i in iterable:\n",
    "        if len(i) > n:\n",
    "            x.append(i)\n",
    "    return x\n",
    "\n",
    "\n",
    "l = [\"Happy\", \"Sad\", \"Action\", \"Dance\", \"Artificial\", \"Machine\"]\n",
    "result = filter_long_words(l, 5)\n",
    "print(result)\n"
   ]
  },
  {
   "cell_type": "markdown",
   "metadata": {},
   "source": [
    "<h3>Q2) 2.1)\n",
    "Write a Python program using function concept that maps list of words into a list of integers\n",
    "representing the lengths of the corresponding words.\n",
    "Hint: If a list [ ab,cde,erty] is passed on to the python function output should come as [2,3,4]\n",
    "Here 2,3 and 4 are the lengths of the words in the list.\n",
    "</h3>"
   ]
  },
  {
   "cell_type": "code",
   "execution_count": 6,
   "metadata": {},
   "outputs": [
    {
     "name": "stdout",
     "output_type": "stream",
     "text": [
      "[5, 8, 3, 5]\n"
     ]
    }
   ],
   "source": [
    "def map_len_words(iterable):\n",
    "    return list(map(len, iterable))\n",
    "\n",
    "\n",
    "l = [\"hello\", \"everyone\", \"Ron\", \"Harry\"]\n",
    "result = map_len_words(l)\n",
    "print(result)\n"
   ]
  },
  {
   "cell_type": "markdown",
   "metadata": {},
   "source": [
    "<h3>2.2)\n",
    "Write a Python function which takes a character (i.e. a string of length 1) and returns True if it is\n",
    "a vowel, False otherwise.\n",
    "NOTE: The solution shared through Github should contain the source code used  and\n",
    "the screenshot of the output.\n",
    "\n",
    "</h3>"
   ]
  },
  {
   "cell_type": "code",
   "execution_count": 9,
   "metadata": {},
   "outputs": [
    {
     "name": "stdout",
     "output_type": "stream",
     "text": [
      "True\n",
      "False\n"
     ]
    }
   ],
   "source": [
    "def vowel_tester(charecter):\n",
    "    vowels = ['a', 'e', 'i', 'o', 'u']\n",
    "    for i in vowels:\n",
    "        if i == charecter:\n",
    "            return True\n",
    "        else:\n",
    "            return False\n",
    "\n",
    "\n",
    "result1 = vowel_tester('a')\n",
    "result2 = vowel_tester('z')\n",
    "print(result1)\n",
    "print(result2)"
   ]
  },
  {
   "cell_type": "code",
   "execution_count": null,
   "metadata": {},
   "outputs": [],
   "source": []
  }
 ],
 "metadata": {
  "kernelspec": {
   "display_name": "Python 3",
   "language": "python",
   "name": "python3"
  },
  "language_info": {
   "codemirror_mode": {
    "name": "ipython",
    "version": 3
   },
   "file_extension": ".py",
   "mimetype": "text/x-python",
   "name": "python",
   "nbconvert_exporter": "python",
   "pygments_lexer": "ipython3",
   "version": "3.7.4"
  }
 },
 "nbformat": 4,
 "nbformat_minor": 4
}
