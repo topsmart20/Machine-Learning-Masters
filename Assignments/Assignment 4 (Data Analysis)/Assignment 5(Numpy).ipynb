{
 "cells": [
  {
   "cell_type": "markdown",
   "metadata": {},
   "source": [
    "<strong>Problem Statement 1:</strong><br>\n",
    "Write a function so that the columns of the output matrix are powers of the input<br>\n",
    "vector.<br><br>\n",
    "The order of the powers is determined by the increasing boolean argument. Specifically, when<br>\n",
    "increasing is False, the i-th output column is the input vector raised element-wise to the power<br>\n",
    "of N - i - 1.<br><br>\n",
    "HINT: Such a matrix with a geometric progression in each row is named for AlexandreTheophile Vandermonde"
   ]
  },
  {
   "cell_type": "code",
   "execution_count": 11,
   "metadata": {},
   "outputs": [],
   "source": [
    "import numpy as np\n",
    "\n",
    "def vandermonde_matrix(inpt, N = None, increasing = False):\n",
    "    if N==None:\n",
    "        N = len(inpt)\n",
    "    if increasing:\n",
    "        result = [[pow(elmnt, power) for power in range(0, N)] for elmnt in inpt]\n",
    "        print(np.asanyarray(result))\n",
    "    else:\n",
    "        result = [[pow(elmnt, power) for power in range(N-1, -1, -1) ] for elmnt in inpt]\n",
    "        print(np.asanyarray(result))      "
   ]
  },
  {
   "cell_type": "code",
   "execution_count": 12,
   "metadata": {},
   "outputs": [
    {
     "name": "stdout",
     "output_type": "stream",
     "text": [
      "[[  1   1   1   1]\n",
      " [  8   4   2   1]\n",
      " [ 27   9   3   1]\n",
      " [125  25   5   1]]\n"
     ]
    }
   ],
   "source": [
    "inpt = [1,2,3,5]        \n",
    "vandermonde_matrix(inpt,increasing = False)  "
   ]
  },
  {
   "cell_type": "code",
   "execution_count": 13,
   "metadata": {},
   "outputs": [
    {
     "name": "stdout",
     "output_type": "stream",
     "text": [
      "[[  1   1   1   1]\n",
      " [  1   2   4   8]\n",
      " [  1   3   9  27]\n",
      " [  1   5  25 125]]\n"
     ]
    }
   ],
   "source": [
    "vandermonde_matrix(inpt, increasing = True)"
   ]
  },
  {
   "cell_type": "markdown",
   "metadata": {},
   "source": [
    "<strong>Problem Statement 2:</strong><br>\n",
    "Given a sequence of n values x1, x2, ..., xn and a window size k>0, the k-th moving average of\n",
    "the given sequence is defined as follows:<br>\n",
    "The moving average sequence has n-k+1 elements as shown below.<br>\n",
    "The moving averages with k=4 of a ten-value sequence (n=10) is shown below<br>\n",
    "i 1 2 3 4 5 6 7 8 9 10<br><br>\n",
    "===== == == == == == == == == == ==<br><br>\n",
    "Input 10 20 30 40 50 60 70 80 90 100<br><br>\n",
    "y1 25 = (10+20+30+40)/4<br><br>\n",
    "y2 35 = (20+30+40+50)/4<br><br>\n",
    "y3 45 = (30+40+50+60)/4<br><br>\n",
    "y4 55 = (40+50+60+70)/4<br><br>\n",
    "y5 65 = (50+60+70+80)/4<br><br>\n",
    "y6 75 = (60+70+80+90)/4<br><br>\n",
    "y7 85 = (70+80+90+100)/4<br><br>\n",
    "Thus, the moving average sequence has n-k+1=10-4+1=7 values.<br>\n",
    "<strong>Question:</strong> Write a function to find moving average in an array over a window:<br><br>\n",
    " Test it over [3, 5, 7, 2, 8, 10, 11, 65, 72, 81, 99, 100, 150] and window of 3."
   ]
  },
  {
   "cell_type": "code",
   "execution_count": 1,
   "metadata": {},
   "outputs": [
    {
     "ename": "SyntaxError",
     "evalue": "invalid syntax (<ipython-input-1-44a1893d93b4>, line 2)",
     "output_type": "error",
     "traceback": [
      "\u001b[1;36m  File \u001b[1;32m\"<ipython-input-1-44a1893d93b4>\"\u001b[1;36m, line \u001b[1;32m2\u001b[0m\n\u001b[1;33m    result = [for elmnt in inpt]\u001b[0m\n\u001b[1;37m              ^\u001b[0m\n\u001b[1;31mSyntaxError\u001b[0m\u001b[1;31m:\u001b[0m invalid syntax\n"
     ]
    }
   ],
   "source": [
    "def movingAVG(n, k, inpt):\n",
    "    result = [for elmnt in inpt]"
   ]
  },
  {
   "cell_type": "code",
   "execution_count": 27,
   "metadata": {},
   "outputs": [
    {
     "name": "stdout",
     "output_type": "stream",
     "text": [
      "y1 25 \n",
      "y2 35 \n",
      "y3 45 \n",
      "y4 55 \n",
      "y5 65 \n",
      "Moving Average elements:  [25, 35, 45, 55, 65, 75]\n",
      "Thus, the moving average sequence has n-k+1 = 10+4+1 => 7\n"
     ]
    }
   ],
   "source": [
    "inpt = [10, 20, 30, 40, 50, 60, 70, 80, 90, 100]\n",
    "n = 10\n",
    "k = 4\n",
    "ma = []\n",
    "ans = n-k+1\n",
    "\n",
    "for elmnt in range(4, len(inpt)):\n",
    "    result = (inpt[elmnt-4]+inpt[elmnt-3]+inpt[elmnt-2]+inpt[elmnt-1])/k\n",
    "    ma.append(int(result))\n",
    "\n",
    "\n",
    "for i in range(1, len(ma)):\n",
    "    print(\"y{}\".format(i),ma[i-1], \"\")    \n",
    "    \n",
    "print('Moving Average elements: ', ma)\n",
    "print(\"Thus, the moving average sequence has n-k+1 = {}+{}+1 => {}\".format(n, k, ans))"
   ]
  },
  {
   "cell_type": "code",
   "execution_count": null,
   "metadata": {},
   "outputs": [],
   "source": []
  }
 ],
 "metadata": {
  "kernelspec": {
   "display_name": "Python 3",
   "language": "python",
   "name": "python3"
  },
  "language_info": {
   "codemirror_mode": {
    "name": "ipython",
    "version": 3
   },
   "file_extension": ".py",
   "mimetype": "text/x-python",
   "name": "python",
   "nbconvert_exporter": "python",
   "pygments_lexer": "ipython3",
   "version": "3.8.2"
  }
 },
 "nbformat": 4,
 "nbformat_minor": 4
}
