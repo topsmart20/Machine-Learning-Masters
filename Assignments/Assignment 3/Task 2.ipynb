{
 "cells": [
  {
   "cell_type": "markdown",
   "metadata": {},
   "source": [
    "# Task 2"
   ]
  },
  {
   "cell_type": "markdown",
   "metadata": {},
   "source": [
    "<h3>\n",
    "1.\n",
    "Write a function so that the columns of the output matrix are powers of the input vector.<br>\n",
    "The order of the powers is determined by the increasing boolean argument.<br> Specifically, when\n",
    "increasing is False, the i-th output column is the input vector raised element-wise to the power\n",
    "of N - i - 1.<br><br>\n",
    "HINT: Such a matrix with a geometric progression in each row is named for AlexandreTheophile Vandermonde.</h3>"
   ]
  },
  {
   "cell_type": "code",
   "execution_count": 1,
   "metadata": {},
   "outputs": [],
   "source": [
    "# Without using Numpy\n",
    "def custom_vander(inp_list, N=None, increasing = False):\n",
    "    \n",
    "    if N == None : N = len(inp_list)\n",
    "    if increasing:\n",
    "        matrix = [[element**power for power in range(0, N)] for element in inp_list]\n",
    "        print(matrix)\n",
    "    else:\n",
    "        matrix = [[element**power for power in range(N-1, -1, -1)] for element in inp_list]\n",
    "        print(matrix)"
   ]
  },
  {
   "cell_type": "code",
   "execution_count": 2,
   "metadata": {},
   "outputs": [
    {
     "name": "stdout",
     "output_type": "stream",
     "text": [
      "[[1, 1, 1, 1], [8, 4, 2, 1], [27, 9, 3, 1], [125, 25, 5, 1]]\n"
     ]
    }
   ],
   "source": [
    "custom_vander([1, 2, 3, 5])"
   ]
  },
  {
   "cell_type": "code",
   "execution_count": 4,
   "metadata": {},
   "outputs": [],
   "source": [
    "import numpy as np"
   ]
  },
  {
   "cell_type": "code",
   "execution_count": 5,
   "metadata": {},
   "outputs": [],
   "source": [
    "# With the use of Numpy\n",
    "def custom_vander_np(inp_list, N=None, increasing = False):\n",
    "    \n",
    "    if N == None : N = len(inp_list)\n",
    "    if increasing:\n",
    "        matrix = [[element**power for power in range(0, N)] for element in inp_list]\n",
    "        print(np.row_stack(matrix))\n",
    "    else:\n",
    "        matrix = [[element**power for power in range(N-1, -1, -1)] for element in inp_list]\n",
    "        print(np.row_stack(matrix))"
   ]
  },
  {
   "cell_type": "code",
   "execution_count": 6,
   "metadata": {},
   "outputs": [
    {
     "name": "stdout",
     "output_type": "stream",
     "text": [
      "[[  1   1   1   1]\n",
      " [  8   4   2   1]\n",
      " [ 27   9   3   1]\n",
      " [125  25   5   1]]\n"
     ]
    }
   ],
   "source": [
    "custom_vander_np([1, 2, 3, 5])"
   ]
  },
  {
   "cell_type": "code",
   "execution_count": 7,
   "metadata": {},
   "outputs": [
    {
     "name": "stdout",
     "output_type": "stream",
     "text": [
      "[[  1   1   1   1   1]\n",
      " [ 16   8   4   2   1]\n",
      " [ 81  27   9   3   1]\n",
      " [625 125  25   5   1]]\n"
     ]
    }
   ],
   "source": [
    "custom_vander_np([1, 2, 3, 5], N = 5)"
   ]
  },
  {
   "cell_type": "code",
   "execution_count": 8,
   "metadata": {},
   "outputs": [
    {
     "name": "stdout",
     "output_type": "stream",
     "text": [
      "[[  1   1   1   1]\n",
      " [  1   2   4   8]\n",
      " [  1   3   9  27]\n",
      " [  1   5  25 125]]\n"
     ]
    }
   ],
   "source": [
    "custom_vander_np([1, 2, 3, 5], increasing = True)"
   ]
  },
  {
   "cell_type": "code",
   "execution_count": null,
   "metadata": {},
   "outputs": [],
   "source": []
  }
 ],
 "metadata": {
  "kernelspec": {
   "display_name": "Python 3",
   "language": "python",
   "name": "python3"
  },
  "language_info": {
   "codemirror_mode": {
    "name": "ipython",
    "version": 3
   },
   "file_extension": ".py",
   "mimetype": "text/x-python",
   "name": "python",
   "nbconvert_exporter": "python",
   "pygments_lexer": "ipython3",
   "version": "3.8.2"
  }
 },
 "nbformat": 4,
 "nbformat_minor": 4
}
