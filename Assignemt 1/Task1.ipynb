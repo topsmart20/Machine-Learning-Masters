{
 "cells": [
  {
   "cell_type": "markdown",
   "metadata": {},
   "source": [
    "<h3>Q2) \n",
    "Write a program which will find all such numbers which are divisible by 7 but are not a multiple\n",
    "of 5, between 2000 and 3200 (both included). The numbers obtained should be printed in a\n",
    "comma-separated sequence on a single line.</h3>\n"
   ]
  },
  {
   "cell_type": "code",
   "execution_count": 1,
   "metadata": {},
   "outputs": [
    {
     "name": "stdout",
     "output_type": "stream",
     "text": [
      "Numbers which are divisible by 7 and not by 5 are:\n",
      "[2002, 2009, 2016, 2023, 2037, 2044, 2051, 2058, 2072, 2079, 2086, 2093, 2107, 2114, 2121, 2128, 2142, 2149, 2156, 2163, 2177, 2184, 2191, 2198, 2212, 2219, 2226, 2233, 2247, 2254, 2261, 2268, 2282, 2289, 2296, 2303, 2317, 2324, 2331, 2338, 2352, 2359, 2366, 2373, 2387, 2394, 2401, 2408, 2422, 2429, 2436, 2443, 2457, 2464, 2471, 2478, 2492, 2499, 2506, 2513, 2527, 2534, 2541, 2548, 2562, 2569, 2576, 2583, 2597, 2604, 2611, 2618, 2632, 2639, 2646, 2653, 2667, 2674, 2681, 2688, 2702, 2709, 2716, 2723, 2737, 2744, 2751, 2758, 2772, 2779, 2786, 2793, 2807, 2814, 2821, 2828, 2842, 2849, 2856, 2863, 2877, 2884, 2891, 2898, 2912, 2919, 2926, 2933, 2947, 2954, 2961, 2968, 2982, 2989, 2996]"
     ]
    }
   ],
   "source": [
    "def task1_2():\n",
    "    #   List of numbers which are divisible by 7 and not by 5\n",
    "    x = []\n",
    "\n",
    "    for i in range(2000, 3001):\n",
    "        if i % 7 == 0 and i % 5 != 0:\n",
    "            x.append(i)\n",
    "        else:\n",
    "            continue\n",
    "\n",
    "    print(\"Numbers which are divisible by 7 and not by 5 are:\", end=\"\\n\" + str(x))\n",
    "\n",
    "\n",
    "task1_2()\n"
   ]
  },
  {
   "cell_type": "markdown",
   "metadata": {},
   "source": [
    "<h3>Q3) \n",
    "Write a Python program to accept the user's first and last name and then getting them printed in\n",
    "the the reverse order with a space between first name and last name.</h3>"
   ]
  },
  {
   "cell_type": "code",
   "execution_count": 2,
   "metadata": {},
   "outputs": [
    {
     "name": "stdin",
     "output_type": "stream",
     "text": [
      "Enter your first name:  Falansh\n",
      "Enter your last name:  Soddj\n"
     ]
    },
    {
     "name": "stdout",
     "output_type": "stream",
     "text": [
      "hsnalaF\tjddoS\n"
     ]
    }
   ],
   "source": [
    "def task1_3(x,y):\n",
    "    l_f = x[::-1]\n",
    "    l_l = y[::-1]\n",
    "\n",
    "    print(l_f + \"\\t\" + l_l)\n",
    "\n",
    "\n",
    "first_name = input(\"Enter your first name: \")\n",
    "last_name = input(\"Enter your last name: \")\n",
    "task1_3(first_name, last_name)"
   ]
  },
  {
   "cell_type": "markdown",
   "metadata": {},
   "source": [
    "<h3>Q4)\n",
    "Write a Python program to find the volume of a sphere with diameter 12 cm.\n",
    "Formula: V=4/3 * π * r3 \n",
    "</h3>"
   ]
  },
  {
   "cell_type": "code",
   "execution_count": 3,
   "metadata": {},
   "outputs": [
    {
     "name": "stdout",
     "output_type": "stream",
     "text": [
      "Volume of a sphere with diameter 12 cm is 904.7786842338603"
     ]
    }
   ],
   "source": [
    "import math\n",
    "\n",
    "\n",
    "def task1_4():\n",
    "    d = 12\n",
    "    r = d / 2\n",
    "    v = 4 / 3 * math.pi * pow(r, 3)\n",
    "    print(\"Volume of a sphere with diameter 12 cm is \" + str(v), end=\"\")\n",
    "\n",
    "\n",
    "task1_4()\n"
   ]
  },
  {
   "cell_type": "code",
   "execution_count": null,
   "metadata": {},
   "outputs": [],
   "source": []
  }
 ],
 "metadata": {
  "kernelspec": {
   "display_name": "Python",
   "language": "python",
   "name": "conda-env-python-py"
  },
  "language_info": {
   "codemirror_mode": {
    "name": "ipython",
    "version": 3
   },
   "file_extension": ".py",
   "mimetype": "text/x-python",
   "name": "python",
   "nbconvert_exporter": "python",
   "pygments_lexer": "ipython3",
   "version": "3.6.7"
  }
 },
 "nbformat": 4,
 "nbformat_minor": 4
}
